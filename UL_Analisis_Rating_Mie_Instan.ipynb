{
  "nbformat": 4,
  "nbformat_minor": 0,
  "metadata": {
    "colab": {
      "name": "UL - Analisis Rating Mie Instan.ipynb",
      "provenance": [],
      "authorship_tag": "ABX9TyNpdlEGLFeSjQZYgrdnYfTb",
      "include_colab_link": true
    },
    "kernelspec": {
      "name": "python3",
      "display_name": "Python 3"
    },
    "language_info": {
      "name": "python"
    }
  },
  "cells": [
    {
      "cell_type": "markdown",
      "metadata": {
        "id": "view-in-github",
        "colab_type": "text"
      },
      "source": [
        "<a href=\"https://colab.research.google.com/github/FeliksMakarios/ml-model_project/blob/main/UL_Analisis_Rating_Mie_Instan.ipynb\" target=\"_parent\"><img src=\"https://colab.research.google.com/assets/colab-badge.svg\" alt=\"Open In Colab\"/></a>"
      ]
    },
    {
      "cell_type": "markdown",
      "metadata": {
        "id": "-2avBciPo8MV"
      },
      "source": [
        "# **Analisis Rating Mie Instan**"
      ]
    },
    {
      "cell_type": "markdown",
      "metadata": {
        "id": "uyomERvMk19_"
      },
      "source": [
        "Project ini akan mengembangkan model machine learning untuk memprediksi rasa mie terbaik yang akan dijadikan ide selanjutnya untuk dijual. Untuk melakukannya, perlu melakukan analisis pada dataset rating mie instan.\n",
        "\n",
        "Dataset yang digunakan berasal dari [Ramen Rater](https://www.theramenrater.com/resources-2/the-list/). Ramen Rater merupakan blog yang memberikan ulasan pada semua mie di seluruh dunia sejak tahun 2002. Mereka memberikan dataset yang terbuka untuk publik."
      ]
    },
    {
      "cell_type": "code",
      "metadata": {
        "colab": {
          "base_uri": "https://localhost:8080/"
        },
        "id": "QMZsWvghjwYh",
        "outputId": "cac72131-33d1-4f73-b586-0766981551e7"
      },
      "source": [
        "from google.colab import drive\n",
        "drive.mount('/content/drive')"
      ],
      "execution_count": 1,
      "outputs": [
        {
          "output_type": "stream",
          "name": "stdout",
          "text": [
            "Mounted at /content/drive\n"
          ]
        }
      ]
    },
    {
      "cell_type": "code",
      "metadata": {
        "id": "NlOoQGP4pHZ1"
      },
      "source": [
        "# import library os untuk bisa berinteraksi dengan file system yang ada pada operating system (os)\n",
        "import os\n",
        "\n",
        "os.chdir(\"/content/drive/My Drive/Dataset/Ramen Rating Analysis\")"
      ],
      "execution_count": 2,
      "outputs": []
    },
    {
      "cell_type": "markdown",
      "metadata": {
        "id": "55TUQyZGkADB"
      },
      "source": [
        "## **Pengumpulan dan Pembersihan Data**"
      ]
    },
    {
      "cell_type": "markdown",
      "metadata": {
        "id": "OnhRe7X0sWH5"
      },
      "source": [
        "### Pengumpulan Data"
      ]
    },
    {
      "cell_type": "code",
      "metadata": {
        "id": "wceu2QfjpPnh"
      },
      "source": [
        "import pandas as pd"
      ],
      "execution_count": 3,
      "outputs": []
    },
    {
      "cell_type": "code",
      "metadata": {
        "colab": {
          "base_uri": "https://localhost:8080/",
          "height": 419
        },
        "id": "SLzlEgy-pTHU",
        "outputId": "f782d332-9373-4ff3-c024-87e20b488704"
      },
      "source": [
        "# baca file excel sebagai dataframe\n",
        "df = pd.read_excel('The-Big-List-20210117.xlsx')\n",
        "df"
      ],
      "execution_count": 17,
      "outputs": [
        {
          "output_type": "execute_result",
          "data": {
            "text/html": [
              "<div>\n",
              "<style scoped>\n",
              "    .dataframe tbody tr th:only-of-type {\n",
              "        vertical-align: middle;\n",
              "    }\n",
              "\n",
              "    .dataframe tbody tr th {\n",
              "        vertical-align: top;\n",
              "    }\n",
              "\n",
              "    .dataframe thead th {\n",
              "        text-align: right;\n",
              "    }\n",
              "</style>\n",
              "<table border=\"1\" class=\"dataframe\">\n",
              "  <thead>\n",
              "    <tr style=\"text-align: right;\">\n",
              "      <th></th>\n",
              "      <th>Review #</th>\n",
              "      <th>Brand</th>\n",
              "      <th>Variety</th>\n",
              "      <th>Style</th>\n",
              "      <th>Country</th>\n",
              "      <th>Stars</th>\n",
              "      <th>T</th>\n",
              "    </tr>\n",
              "  </thead>\n",
              "  <tbody>\n",
              "    <tr>\n",
              "      <th>0</th>\n",
              "      <td>3702</td>\n",
              "      <td>Higashimaru</td>\n",
              "      <td>Seafood Sara Udon</td>\n",
              "      <td>Pack</td>\n",
              "      <td>Japan</td>\n",
              "      <td>5</td>\n",
              "      <td>NaN</td>\n",
              "    </tr>\n",
              "    <tr>\n",
              "      <th>1</th>\n",
              "      <td>3701</td>\n",
              "      <td>Single Grain</td>\n",
              "      <td>Chongqing Spicy &amp; Sour Rice Noodles</td>\n",
              "      <td>Cup</td>\n",
              "      <td>China</td>\n",
              "      <td>3.5</td>\n",
              "      <td>NaN</td>\n",
              "    </tr>\n",
              "    <tr>\n",
              "      <th>2</th>\n",
              "      <td>3700</td>\n",
              "      <td>Sau Tao</td>\n",
              "      <td>Seafood Flavour Sichuan Spicy Noodle</td>\n",
              "      <td>Pack</td>\n",
              "      <td>Hong Kong</td>\n",
              "      <td>5</td>\n",
              "      <td>NaN</td>\n",
              "    </tr>\n",
              "    <tr>\n",
              "      <th>3</th>\n",
              "      <td>3699</td>\n",
              "      <td>Sau Tao</td>\n",
              "      <td>Jiangnan Style Noodle - Original Flavour</td>\n",
              "      <td>Pack</td>\n",
              "      <td>Hong Kong</td>\n",
              "      <td>4.5</td>\n",
              "      <td>NaN</td>\n",
              "    </tr>\n",
              "    <tr>\n",
              "      <th>4</th>\n",
              "      <td>3698</td>\n",
              "      <td>Sapporo Ichiban</td>\n",
              "      <td>CupStar Shio Ramen</td>\n",
              "      <td>Cup</td>\n",
              "      <td>Japan</td>\n",
              "      <td>3.5</td>\n",
              "      <td>NaN</td>\n",
              "    </tr>\n",
              "    <tr>\n",
              "      <th>...</th>\n",
              "      <td>...</td>\n",
              "      <td>...</td>\n",
              "      <td>...</td>\n",
              "      <td>...</td>\n",
              "      <td>...</td>\n",
              "      <td>...</td>\n",
              "      <td>...</td>\n",
              "    </tr>\n",
              "    <tr>\n",
              "      <th>3697</th>\n",
              "      <td>5</td>\n",
              "      <td>Vifon</td>\n",
              "      <td>Hu Tiu Nam Vang [\"Phnom Penh\" style] Asian Sty...</td>\n",
              "      <td>Bowl</td>\n",
              "      <td>Vietnam</td>\n",
              "      <td>3.5</td>\n",
              "      <td>NaN</td>\n",
              "    </tr>\n",
              "    <tr>\n",
              "      <th>3698</th>\n",
              "      <td>4</td>\n",
              "      <td>Wai Wai</td>\n",
              "      <td>Oriental Style Instant Noodles</td>\n",
              "      <td>Pack</td>\n",
              "      <td>Thailand</td>\n",
              "      <td>1</td>\n",
              "      <td>NaN</td>\n",
              "    </tr>\n",
              "    <tr>\n",
              "      <th>3699</th>\n",
              "      <td>3</td>\n",
              "      <td>Wai Wai</td>\n",
              "      <td>Tom Yum Shrimp</td>\n",
              "      <td>Pack</td>\n",
              "      <td>Thailand</td>\n",
              "      <td>2</td>\n",
              "      <td>NaN</td>\n",
              "    </tr>\n",
              "    <tr>\n",
              "      <th>3700</th>\n",
              "      <td>2</td>\n",
              "      <td>Wai Wai</td>\n",
              "      <td>Tom Yum Chili Flavor</td>\n",
              "      <td>Pack</td>\n",
              "      <td>Thailand</td>\n",
              "      <td>2</td>\n",
              "      <td>NaN</td>\n",
              "    </tr>\n",
              "    <tr>\n",
              "      <th>3701</th>\n",
              "      <td>1</td>\n",
              "      <td>Westbrae</td>\n",
              "      <td>Miso Ramen</td>\n",
              "      <td>Pack</td>\n",
              "      <td>United States</td>\n",
              "      <td>0.5</td>\n",
              "      <td>NaN</td>\n",
              "    </tr>\n",
              "  </tbody>\n",
              "</table>\n",
              "<p>3702 rows × 7 columns</p>\n",
              "</div>"
            ],
            "text/plain": [
              "      Review #            Brand  ... Stars   T\n",
              "0         3702      Higashimaru  ...     5 NaN\n",
              "1         3701     Single Grain  ...   3.5 NaN\n",
              "2         3700          Sau Tao  ...     5 NaN\n",
              "3         3699          Sau Tao  ...   4.5 NaN\n",
              "4         3698  Sapporo Ichiban  ...   3.5 NaN\n",
              "...        ...              ...  ...   ...  ..\n",
              "3697         5            Vifon  ...   3.5 NaN\n",
              "3698         4          Wai Wai  ...     1 NaN\n",
              "3699         3          Wai Wai  ...     2 NaN\n",
              "3700         2          Wai Wai  ...     2 NaN\n",
              "3701         1         Westbrae  ...   0.5 NaN\n",
              "\n",
              "[3702 rows x 7 columns]"
            ]
          },
          "metadata": {},
          "execution_count": 17
        }
      ]
    },
    {
      "cell_type": "markdown",
      "metadata": {
        "id": "e5XDiTH1sZro"
      },
      "source": [
        "### Pembersihan Data"
      ]
    },
    {
      "cell_type": "code",
      "metadata": {
        "colab": {
          "base_uri": "https://localhost:8080/"
        },
        "id": "TmgnSvU_qRNs",
        "outputId": "efddd14a-134f-47f9-cdc0-2c7438937321"
      },
      "source": [
        "# memeriksa kolom mana saja yang mengandung missing values\n",
        "df.isnull().sum()"
      ],
      "execution_count": 18,
      "outputs": [
        {
          "output_type": "execute_result",
          "data": {
            "text/plain": [
              "Review #       0\n",
              "Brand          0\n",
              "Variety        0\n",
              "Style          0\n",
              "Country        0\n",
              "Stars          0\n",
              "T           3702\n",
              "dtype: int64"
            ]
          },
          "metadata": {},
          "execution_count": 18
        }
      ]
    },
    {
      "cell_type": "code",
      "metadata": {
        "colab": {
          "base_uri": "https://localhost:8080/",
          "height": 419
        },
        "id": "FTkGExR2q-HS",
        "outputId": "52ebe113-5c7c-406a-9b6c-71bb58d10b9e"
      },
      "source": [
        "# buang kolom yang tidak dibutuhkan. dalam kasus ini yang akan dibuang adalah kolom Review dan T\n",
        "df = df.drop(['Review #', 'T'], axis=1)\n",
        "df"
      ],
      "execution_count": 19,
      "outputs": [
        {
          "output_type": "execute_result",
          "data": {
            "text/html": [
              "<div>\n",
              "<style scoped>\n",
              "    .dataframe tbody tr th:only-of-type {\n",
              "        vertical-align: middle;\n",
              "    }\n",
              "\n",
              "    .dataframe tbody tr th {\n",
              "        vertical-align: top;\n",
              "    }\n",
              "\n",
              "    .dataframe thead th {\n",
              "        text-align: right;\n",
              "    }\n",
              "</style>\n",
              "<table border=\"1\" class=\"dataframe\">\n",
              "  <thead>\n",
              "    <tr style=\"text-align: right;\">\n",
              "      <th></th>\n",
              "      <th>Brand</th>\n",
              "      <th>Variety</th>\n",
              "      <th>Style</th>\n",
              "      <th>Country</th>\n",
              "      <th>Stars</th>\n",
              "    </tr>\n",
              "  </thead>\n",
              "  <tbody>\n",
              "    <tr>\n",
              "      <th>0</th>\n",
              "      <td>Higashimaru</td>\n",
              "      <td>Seafood Sara Udon</td>\n",
              "      <td>Pack</td>\n",
              "      <td>Japan</td>\n",
              "      <td>5</td>\n",
              "    </tr>\n",
              "    <tr>\n",
              "      <th>1</th>\n",
              "      <td>Single Grain</td>\n",
              "      <td>Chongqing Spicy &amp; Sour Rice Noodles</td>\n",
              "      <td>Cup</td>\n",
              "      <td>China</td>\n",
              "      <td>3.5</td>\n",
              "    </tr>\n",
              "    <tr>\n",
              "      <th>2</th>\n",
              "      <td>Sau Tao</td>\n",
              "      <td>Seafood Flavour Sichuan Spicy Noodle</td>\n",
              "      <td>Pack</td>\n",
              "      <td>Hong Kong</td>\n",
              "      <td>5</td>\n",
              "    </tr>\n",
              "    <tr>\n",
              "      <th>3</th>\n",
              "      <td>Sau Tao</td>\n",
              "      <td>Jiangnan Style Noodle - Original Flavour</td>\n",
              "      <td>Pack</td>\n",
              "      <td>Hong Kong</td>\n",
              "      <td>4.5</td>\n",
              "    </tr>\n",
              "    <tr>\n",
              "      <th>4</th>\n",
              "      <td>Sapporo Ichiban</td>\n",
              "      <td>CupStar Shio Ramen</td>\n",
              "      <td>Cup</td>\n",
              "      <td>Japan</td>\n",
              "      <td>3.5</td>\n",
              "    </tr>\n",
              "    <tr>\n",
              "      <th>...</th>\n",
              "      <td>...</td>\n",
              "      <td>...</td>\n",
              "      <td>...</td>\n",
              "      <td>...</td>\n",
              "      <td>...</td>\n",
              "    </tr>\n",
              "    <tr>\n",
              "      <th>3697</th>\n",
              "      <td>Vifon</td>\n",
              "      <td>Hu Tiu Nam Vang [\"Phnom Penh\" style] Asian Sty...</td>\n",
              "      <td>Bowl</td>\n",
              "      <td>Vietnam</td>\n",
              "      <td>3.5</td>\n",
              "    </tr>\n",
              "    <tr>\n",
              "      <th>3698</th>\n",
              "      <td>Wai Wai</td>\n",
              "      <td>Oriental Style Instant Noodles</td>\n",
              "      <td>Pack</td>\n",
              "      <td>Thailand</td>\n",
              "      <td>1</td>\n",
              "    </tr>\n",
              "    <tr>\n",
              "      <th>3699</th>\n",
              "      <td>Wai Wai</td>\n",
              "      <td>Tom Yum Shrimp</td>\n",
              "      <td>Pack</td>\n",
              "      <td>Thailand</td>\n",
              "      <td>2</td>\n",
              "    </tr>\n",
              "    <tr>\n",
              "      <th>3700</th>\n",
              "      <td>Wai Wai</td>\n",
              "      <td>Tom Yum Chili Flavor</td>\n",
              "      <td>Pack</td>\n",
              "      <td>Thailand</td>\n",
              "      <td>2</td>\n",
              "    </tr>\n",
              "    <tr>\n",
              "      <th>3701</th>\n",
              "      <td>Westbrae</td>\n",
              "      <td>Miso Ramen</td>\n",
              "      <td>Pack</td>\n",
              "      <td>United States</td>\n",
              "      <td>0.5</td>\n",
              "    </tr>\n",
              "  </tbody>\n",
              "</table>\n",
              "<p>3702 rows × 5 columns</p>\n",
              "</div>"
            ],
            "text/plain": [
              "                Brand  ... Stars\n",
              "0         Higashimaru  ...     5\n",
              "1        Single Grain  ...   3.5\n",
              "2             Sau Tao  ...     5\n",
              "3             Sau Tao  ...   4.5\n",
              "4     Sapporo Ichiban  ...   3.5\n",
              "...               ...  ...   ...\n",
              "3697            Vifon  ...   3.5\n",
              "3698          Wai Wai  ...     1\n",
              "3699          Wai Wai  ...     2\n",
              "3700          Wai Wai  ...     2\n",
              "3701         Westbrae  ...   0.5\n",
              "\n",
              "[3702 rows x 5 columns]"
            ]
          },
          "metadata": {},
          "execution_count": 19
        }
      ]
    },
    {
      "cell_type": "code",
      "metadata": {
        "colab": {
          "base_uri": "https://localhost:8080/"
        },
        "id": "UtCEhymfqcgi",
        "outputId": "a0e9c622-f0af-4744-c502-a6bbfef03e45"
      },
      "source": [
        "df.dtypes"
      ],
      "execution_count": 20,
      "outputs": [
        {
          "output_type": "execute_result",
          "data": {
            "text/plain": [
              "Brand      object\n",
              "Variety    object\n",
              "Style      object\n",
              "Country    object\n",
              "Stars      object\n",
              "dtype: object"
            ]
          },
          "metadata": {},
          "execution_count": 20
        }
      ]
    },
    {
      "cell_type": "markdown",
      "metadata": {
        "id": "38DznYgcteyo"
      },
      "source": [
        "Memeriksa lebih jauh isi dari kolom Stars. mengapa tipenya object"
      ]
    },
    {
      "cell_type": "code",
      "metadata": {
        "colab": {
          "base_uri": "https://localhost:8080/"
        },
        "id": "Z0LNPFIVsZVU",
        "outputId": "236e22b9-a2c4-4acd-f87f-ce4704709111"
      },
      "source": [
        "# cek nilai unik yang ada pada kolom Stars dan tampilkan dalam bentuk arrays\n",
        "df['Stars'].unique()"
      ],
      "execution_count": 21,
      "outputs": [
        {
          "output_type": "execute_result",
          "data": {
            "text/plain": [
              "array([5, 3.5, 4.5, 4, 3.75, 4.25, 3, 3.25, 4.75, 2.5, 2, 0.75, 0, 1.25,\n",
              "       2.75, 0.5, 1.5, 2.25, 1, 'NS', 0.25, 'NR', 1.75, '3.5/2.5',\n",
              "       datetime.datetime(2017, 4, 4, 0, 0),\n",
              "       datetime.datetime(2017, 5, 5, 0, 0), '4.5/5', '5/2.5',\n",
              "       datetime.datetime(2017, 5, 4, 0, 0), '4.25/5', 'Unrated', 1.1, 2.1,\n",
              "       0.9, 3.1, 4.125, 3.125, 2.125, 2.9, 0.1, 2.8, 3.7, 3.4, 3.6, 2.85,\n",
              "       2.3, 3.2, 3.65, 1.8], dtype=object)"
            ]
          },
          "metadata": {},
          "execution_count": 21
        }
      ]
    },
    {
      "cell_type": "code",
      "metadata": {
        "colab": {
          "base_uri": "https://localhost:8080/"
        },
        "id": "cj9uFqvttTM2",
        "outputId": "3f67cfd5-ebec-41fc-bba2-c7e1b46d4caa"
      },
      "source": [
        "# cek nilai unik yang ada pada kolom Stars dan tampilkan dalam bentuk series\n",
        "df['Stars'].value_counts()"
      ],
      "execution_count": 22,
      "outputs": [
        {
          "output_type": "execute_result",
          "data": {
            "text/plain": [
              "5                      667\n",
              "3.5                    543\n",
              "3.75                   535\n",
              "4                      439\n",
              "4.5                    242\n",
              "3.25                   222\n",
              "4.25                   215\n",
              "3                      172\n",
              "2.75                   110\n",
              "2                       95\n",
              "4.75                    93\n",
              "2.5                     93\n",
              "1.5                     50\n",
              "0                       40\n",
              "1                       38\n",
              "2.25                    29\n",
              "1.75                    28\n",
              "0.5                     20\n",
              "0.25                    17\n",
              "1.25                    14\n",
              "Unrated                  3\n",
              "NR                       3\n",
              "4.25/5                   2\n",
              "0.75                     2\n",
              "4.125                    2\n",
              "3.1                      2\n",
              "2.9                      2\n",
              "2.8                      2\n",
              "1.1                      2\n",
              "2.1                      1\n",
              "5/2.5                    1\n",
              "3.4                      1\n",
              "2017-04-04 00:00:00      1\n",
              "2.3                      1\n",
              "3.2                      1\n",
              "1.8                      1\n",
              "0.1                      1\n",
              "3.6                      1\n",
              "2.85                     1\n",
              "3.5/2.5                  1\n",
              "3.7                      1\n",
              "2.125                    1\n",
              "2017-05-04 00:00:00      1\n",
              "4.5/5                    1\n",
              "NS                       1\n",
              "2017-05-05 00:00:00      1\n",
              "0.9                      1\n",
              "3.65                     1\n",
              "3.125                    1\n",
              "Name: Stars, dtype: int64"
            ]
          },
          "metadata": {},
          "execution_count": 22
        }
      ]
    },
    {
      "cell_type": "markdown",
      "metadata": {
        "id": "bu9MBEI1t9m9"
      },
      "source": [
        "Hasilnya menunjukkan isi dari kolom Stars sangat bervariasi. Seharusnya hanya ada data dari 1-5 tapi ternyata ada isi lainnya yang kurang sesuai seperti `4.5/5` atau dalam bentuk datetimes `2017-05-05 00:00:00` atau juga dalam bentuk string `NS`. Nilai-nilai ini perlu diganti/replace."
      ]
    },
    {
      "cell_type": "code",
      "metadata": {
        "colab": {
          "base_uri": "https://localhost:8080/"
        },
        "id": "R-voPOy7uuG8",
        "outputId": "8528f418-fbac-408c-d16e-0fc0fc8207c4"
      },
      "source": [
        "# 4.5/5 -> 4.5\n",
        "# 5/2.5 -> 2.5\n",
        "# 3.5/2.5 -> 2.5\n",
        "# 4.25/5 -> 4.25\n",
        "\n",
        "df['Stars'] = df['Stars'].replace('4.5/5', 4.5)\n",
        "df['Stars'] = df['Stars'].replace('5/2.5', 2.5)\n",
        "df['Stars'] = df['Stars'].replace('3.5/2.5', 2.5)\n",
        "df['Stars'] = df['Stars'].replace('4.25/5', 4.5)\n",
        "\n",
        "df['Stars'].value_counts()"
      ],
      "execution_count": 23,
      "outputs": [
        {
          "output_type": "execute_result",
          "data": {
            "text/plain": [
              "5                      667\n",
              "3.5                    543\n",
              "3.75                   535\n",
              "4                      439\n",
              "4.5                    245\n",
              "3.25                   222\n",
              "4.25                   215\n",
              "3                      172\n",
              "2.75                   110\n",
              "2                       95\n",
              "2.5                     95\n",
              "4.75                    93\n",
              "1.5                     50\n",
              "0                       40\n",
              "1                       38\n",
              "2.25                    29\n",
              "1.75                    28\n",
              "0.5                     20\n",
              "0.25                    17\n",
              "1.25                    14\n",
              "NR                       3\n",
              "Unrated                  3\n",
              "0.75                     2\n",
              "2.8                      2\n",
              "4.125                    2\n",
              "1.1                      2\n",
              "2.9                      2\n",
              "3.1                      2\n",
              "2.85                     1\n",
              "2017-04-04 00:00:00      1\n",
              "2.3                      1\n",
              "3.2                      1\n",
              "1.8                      1\n",
              "0.1                      1\n",
              "3.6                      1\n",
              "3.4                      1\n",
              "3.7                      1\n",
              "3.125                    1\n",
              "2017-05-04 00:00:00      1\n",
              "2017-05-05 00:00:00      1\n",
              "0.9                      1\n",
              "NS                       1\n",
              "3.65                     1\n",
              "2.1                      1\n",
              "2.125                    1\n",
              "Name: Stars, dtype: int64"
            ]
          },
          "metadata": {},
          "execution_count": 23
        }
      ]
    },
    {
      "cell_type": "markdown",
      "metadata": {
        "id": "5V0v-rYgx7Q6"
      },
      "source": [
        "Beberapa data sudah terganti. Selanjutnya nilai yang dalam bentuk string akan dibuang. Namun, terlebih dahulu nilai-nilai tersebut harus dibuat menjadi `NaN` agar nanti lebih mudah dibuang. Untuk membuat nilai selain integer/float menjadi `NaN`, kita dapat melakukan konversi tipe data untuk kolom `Stars`."
      ]
    },
    {
      "cell_type": "code",
      "metadata": {
        "colab": {
          "base_uri": "https://localhost:8080/"
        },
        "id": "pDFkyynWwrKW",
        "outputId": "0d1fe104-e8e6-45ab-dd4e-cb3b9692079e"
      },
      "source": [
        "# jika methode to_numeric menemukan string atau apapun yg bukan number, maka dia akan mengubahnya menjadi NaN\n",
        "df['Stars'] = pd.to_numeric(df['Stars'], errors= 'coerce')\n",
        "df['Stars'].value_counts()"
      ],
      "execution_count": 24,
      "outputs": [
        {
          "output_type": "execute_result",
          "data": {
            "text/plain": [
              "5.000    667\n",
              "3.500    543\n",
              "3.750    535\n",
              "4.000    439\n",
              "4.500    245\n",
              "3.250    222\n",
              "4.250    215\n",
              "3.000    172\n",
              "2.750    110\n",
              "2.000     95\n",
              "2.500     95\n",
              "4.750     93\n",
              "1.500     50\n",
              "0.000     40\n",
              "1.000     38\n",
              "2.250     29\n",
              "1.750     28\n",
              "0.500     20\n",
              "0.250     17\n",
              "1.250     14\n",
              "1.100      2\n",
              "3.100      2\n",
              "2.900      2\n",
              "0.750      2\n",
              "2.800      2\n",
              "4.125      2\n",
              "2.850      1\n",
              "2.300      1\n",
              "3.600      1\n",
              "3.700      1\n",
              "3.650      1\n",
              "0.100      1\n",
              "3.400      1\n",
              "3.125      1\n",
              "1.800      1\n",
              "3.200      1\n",
              "2.100      1\n",
              "2.125      1\n",
              "0.900      1\n",
              "Name: Stars, dtype: int64"
            ]
          },
          "metadata": {},
          "execution_count": 24
        }
      ]
    },
    {
      "cell_type": "code",
      "metadata": {
        "colab": {
          "base_uri": "https://localhost:8080/"
        },
        "id": "_K9QQ_WEwqcA",
        "outputId": "aa1c989b-8117-4a7b-c250-2e8f283759f9"
      },
      "source": [
        "# periksa lagi apakah semua kolom masih mengandung NaN\n",
        "df.isnull().sum()"
      ],
      "execution_count": 25,
      "outputs": [
        {
          "output_type": "execute_result",
          "data": {
            "text/plain": [
              "Brand       0\n",
              "Variety     0\n",
              "Style       0\n",
              "Country     0\n",
              "Stars      10\n",
              "dtype: int64"
            ]
          },
          "metadata": {},
          "execution_count": 25
        }
      ]
    },
    {
      "cell_type": "markdown",
      "metadata": {
        "id": "Oh-UG7R5zxEw"
      },
      "source": [
        "Ada 10 data pada kolom `Stars` yang dianggap NaN. Sepuluh ini adalah:\n",
        "* NR = 3\n",
        "* Unrated = 3\n",
        "* 2017-04-04 00:00:00 = 1\n",
        "* 2017-05-04 00:00:00 = 1\n",
        "* 2017-05-05 00:00:00 = 1\n",
        "* NS = 1\n",
        "\n",
        "Sepuluh nilai NaN ini selanjutnya akan dibuang."
      ]
    },
    {
      "cell_type": "code",
      "metadata": {
        "colab": {
          "base_uri": "https://localhost:8080/"
        },
        "id": "mffdEiNT01El",
        "outputId": "21817c04-6aa8-4ef9-b742-ff74095997d1"
      },
      "source": [
        "# buang semua baris yang memiliki NaN didalamnya\n",
        "df = df.dropna()\n",
        "\n",
        "df.isnull().sum()"
      ],
      "execution_count": 26,
      "outputs": [
        {
          "output_type": "execute_result",
          "data": {
            "text/plain": [
              "Brand      0\n",
              "Variety    0\n",
              "Style      0\n",
              "Country    0\n",
              "Stars      0\n",
              "dtype: int64"
            ]
          },
          "metadata": {},
          "execution_count": 26
        }
      ]
    },
    {
      "cell_type": "code",
      "metadata": {
        "colab": {
          "base_uri": "https://localhost:8080/",
          "height": 419
        },
        "id": "GiYUq9gy1LYZ",
        "outputId": "747c536d-21ff-45ce-d84f-5d8489150a26"
      },
      "source": [
        "df"
      ],
      "execution_count": 27,
      "outputs": [
        {
          "output_type": "execute_result",
          "data": {
            "text/html": [
              "<div>\n",
              "<style scoped>\n",
              "    .dataframe tbody tr th:only-of-type {\n",
              "        vertical-align: middle;\n",
              "    }\n",
              "\n",
              "    .dataframe tbody tr th {\n",
              "        vertical-align: top;\n",
              "    }\n",
              "\n",
              "    .dataframe thead th {\n",
              "        text-align: right;\n",
              "    }\n",
              "</style>\n",
              "<table border=\"1\" class=\"dataframe\">\n",
              "  <thead>\n",
              "    <tr style=\"text-align: right;\">\n",
              "      <th></th>\n",
              "      <th>Brand</th>\n",
              "      <th>Variety</th>\n",
              "      <th>Style</th>\n",
              "      <th>Country</th>\n",
              "      <th>Stars</th>\n",
              "    </tr>\n",
              "  </thead>\n",
              "  <tbody>\n",
              "    <tr>\n",
              "      <th>0</th>\n",
              "      <td>Higashimaru</td>\n",
              "      <td>Seafood Sara Udon</td>\n",
              "      <td>Pack</td>\n",
              "      <td>Japan</td>\n",
              "      <td>5.0</td>\n",
              "    </tr>\n",
              "    <tr>\n",
              "      <th>1</th>\n",
              "      <td>Single Grain</td>\n",
              "      <td>Chongqing Spicy &amp; Sour Rice Noodles</td>\n",
              "      <td>Cup</td>\n",
              "      <td>China</td>\n",
              "      <td>3.5</td>\n",
              "    </tr>\n",
              "    <tr>\n",
              "      <th>2</th>\n",
              "      <td>Sau Tao</td>\n",
              "      <td>Seafood Flavour Sichuan Spicy Noodle</td>\n",
              "      <td>Pack</td>\n",
              "      <td>Hong Kong</td>\n",
              "      <td>5.0</td>\n",
              "    </tr>\n",
              "    <tr>\n",
              "      <th>3</th>\n",
              "      <td>Sau Tao</td>\n",
              "      <td>Jiangnan Style Noodle - Original Flavour</td>\n",
              "      <td>Pack</td>\n",
              "      <td>Hong Kong</td>\n",
              "      <td>4.5</td>\n",
              "    </tr>\n",
              "    <tr>\n",
              "      <th>4</th>\n",
              "      <td>Sapporo Ichiban</td>\n",
              "      <td>CupStar Shio Ramen</td>\n",
              "      <td>Cup</td>\n",
              "      <td>Japan</td>\n",
              "      <td>3.5</td>\n",
              "    </tr>\n",
              "    <tr>\n",
              "      <th>...</th>\n",
              "      <td>...</td>\n",
              "      <td>...</td>\n",
              "      <td>...</td>\n",
              "      <td>...</td>\n",
              "      <td>...</td>\n",
              "    </tr>\n",
              "    <tr>\n",
              "      <th>3697</th>\n",
              "      <td>Vifon</td>\n",
              "      <td>Hu Tiu Nam Vang [\"Phnom Penh\" style] Asian Sty...</td>\n",
              "      <td>Bowl</td>\n",
              "      <td>Vietnam</td>\n",
              "      <td>3.5</td>\n",
              "    </tr>\n",
              "    <tr>\n",
              "      <th>3698</th>\n",
              "      <td>Wai Wai</td>\n",
              "      <td>Oriental Style Instant Noodles</td>\n",
              "      <td>Pack</td>\n",
              "      <td>Thailand</td>\n",
              "      <td>1.0</td>\n",
              "    </tr>\n",
              "    <tr>\n",
              "      <th>3699</th>\n",
              "      <td>Wai Wai</td>\n",
              "      <td>Tom Yum Shrimp</td>\n",
              "      <td>Pack</td>\n",
              "      <td>Thailand</td>\n",
              "      <td>2.0</td>\n",
              "    </tr>\n",
              "    <tr>\n",
              "      <th>3700</th>\n",
              "      <td>Wai Wai</td>\n",
              "      <td>Tom Yum Chili Flavor</td>\n",
              "      <td>Pack</td>\n",
              "      <td>Thailand</td>\n",
              "      <td>2.0</td>\n",
              "    </tr>\n",
              "    <tr>\n",
              "      <th>3701</th>\n",
              "      <td>Westbrae</td>\n",
              "      <td>Miso Ramen</td>\n",
              "      <td>Pack</td>\n",
              "      <td>United States</td>\n",
              "      <td>0.5</td>\n",
              "    </tr>\n",
              "  </tbody>\n",
              "</table>\n",
              "<p>3692 rows × 5 columns</p>\n",
              "</div>"
            ],
            "text/plain": [
              "                Brand  ... Stars\n",
              "0         Higashimaru  ...   5.0\n",
              "1        Single Grain  ...   3.5\n",
              "2             Sau Tao  ...   5.0\n",
              "3             Sau Tao  ...   4.5\n",
              "4     Sapporo Ichiban  ...   3.5\n",
              "...               ...  ...   ...\n",
              "3697            Vifon  ...   3.5\n",
              "3698          Wai Wai  ...   1.0\n",
              "3699          Wai Wai  ...   2.0\n",
              "3700          Wai Wai  ...   2.0\n",
              "3701         Westbrae  ...   0.5\n",
              "\n",
              "[3692 rows x 5 columns]"
            ]
          },
          "metadata": {},
          "execution_count": 27
        }
      ]
    },
    {
      "cell_type": "markdown",
      "metadata": {
        "id": "zBUwYKnN1Grq"
      },
      "source": [
        "Data sudah bersih dan saat ini ada 3692 baris data. Data yang sudah bersih ini selanjutnya perlu di export menjadi CSV agar dapat digunakan lagi suatu waktu."
      ]
    },
    {
      "cell_type": "code",
      "metadata": {
        "id": "y_1YBcyC1cGx"
      },
      "source": [
        "df.to_csv('thebiglist_clean.csv', index=None)"
      ],
      "execution_count": 28,
      "outputs": []
    },
    {
      "cell_type": "code",
      "metadata": {
        "colab": {
          "base_uri": "https://localhost:8080/",
          "height": 419
        },
        "id": "gWrwQDX71snT",
        "outputId": "b59e25d2-71dd-4d26-d089-ae2a03682637"
      },
      "source": [
        "pd.read_csv('thebiglist_clean.csv')"
      ],
      "execution_count": 29,
      "outputs": [
        {
          "output_type": "execute_result",
          "data": {
            "text/html": [
              "<div>\n",
              "<style scoped>\n",
              "    .dataframe tbody tr th:only-of-type {\n",
              "        vertical-align: middle;\n",
              "    }\n",
              "\n",
              "    .dataframe tbody tr th {\n",
              "        vertical-align: top;\n",
              "    }\n",
              "\n",
              "    .dataframe thead th {\n",
              "        text-align: right;\n",
              "    }\n",
              "</style>\n",
              "<table border=\"1\" class=\"dataframe\">\n",
              "  <thead>\n",
              "    <tr style=\"text-align: right;\">\n",
              "      <th></th>\n",
              "      <th>Brand</th>\n",
              "      <th>Variety</th>\n",
              "      <th>Style</th>\n",
              "      <th>Country</th>\n",
              "      <th>Stars</th>\n",
              "    </tr>\n",
              "  </thead>\n",
              "  <tbody>\n",
              "    <tr>\n",
              "      <th>0</th>\n",
              "      <td>Higashimaru</td>\n",
              "      <td>Seafood Sara Udon</td>\n",
              "      <td>Pack</td>\n",
              "      <td>Japan</td>\n",
              "      <td>5.0</td>\n",
              "    </tr>\n",
              "    <tr>\n",
              "      <th>1</th>\n",
              "      <td>Single Grain</td>\n",
              "      <td>Chongqing Spicy &amp; Sour Rice Noodles</td>\n",
              "      <td>Cup</td>\n",
              "      <td>China</td>\n",
              "      <td>3.5</td>\n",
              "    </tr>\n",
              "    <tr>\n",
              "      <th>2</th>\n",
              "      <td>Sau Tao</td>\n",
              "      <td>Seafood Flavour Sichuan Spicy Noodle</td>\n",
              "      <td>Pack</td>\n",
              "      <td>Hong Kong</td>\n",
              "      <td>5.0</td>\n",
              "    </tr>\n",
              "    <tr>\n",
              "      <th>3</th>\n",
              "      <td>Sau Tao</td>\n",
              "      <td>Jiangnan Style Noodle - Original Flavour</td>\n",
              "      <td>Pack</td>\n",
              "      <td>Hong Kong</td>\n",
              "      <td>4.5</td>\n",
              "    </tr>\n",
              "    <tr>\n",
              "      <th>4</th>\n",
              "      <td>Sapporo Ichiban</td>\n",
              "      <td>CupStar Shio Ramen</td>\n",
              "      <td>Cup</td>\n",
              "      <td>Japan</td>\n",
              "      <td>3.5</td>\n",
              "    </tr>\n",
              "    <tr>\n",
              "      <th>...</th>\n",
              "      <td>...</td>\n",
              "      <td>...</td>\n",
              "      <td>...</td>\n",
              "      <td>...</td>\n",
              "      <td>...</td>\n",
              "    </tr>\n",
              "    <tr>\n",
              "      <th>3687</th>\n",
              "      <td>Vifon</td>\n",
              "      <td>Hu Tiu Nam Vang [\"Phnom Penh\" style] Asian Sty...</td>\n",
              "      <td>Bowl</td>\n",
              "      <td>Vietnam</td>\n",
              "      <td>3.5</td>\n",
              "    </tr>\n",
              "    <tr>\n",
              "      <th>3688</th>\n",
              "      <td>Wai Wai</td>\n",
              "      <td>Oriental Style Instant Noodles</td>\n",
              "      <td>Pack</td>\n",
              "      <td>Thailand</td>\n",
              "      <td>1.0</td>\n",
              "    </tr>\n",
              "    <tr>\n",
              "      <th>3689</th>\n",
              "      <td>Wai Wai</td>\n",
              "      <td>Tom Yum Shrimp</td>\n",
              "      <td>Pack</td>\n",
              "      <td>Thailand</td>\n",
              "      <td>2.0</td>\n",
              "    </tr>\n",
              "    <tr>\n",
              "      <th>3690</th>\n",
              "      <td>Wai Wai</td>\n",
              "      <td>Tom Yum Chili Flavor</td>\n",
              "      <td>Pack</td>\n",
              "      <td>Thailand</td>\n",
              "      <td>2.0</td>\n",
              "    </tr>\n",
              "    <tr>\n",
              "      <th>3691</th>\n",
              "      <td>Westbrae</td>\n",
              "      <td>Miso Ramen</td>\n",
              "      <td>Pack</td>\n",
              "      <td>United States</td>\n",
              "      <td>0.5</td>\n",
              "    </tr>\n",
              "  </tbody>\n",
              "</table>\n",
              "<p>3692 rows × 5 columns</p>\n",
              "</div>"
            ],
            "text/plain": [
              "                Brand  ... Stars\n",
              "0         Higashimaru  ...   5.0\n",
              "1        Single Grain  ...   3.5\n",
              "2             Sau Tao  ...   5.0\n",
              "3             Sau Tao  ...   4.5\n",
              "4     Sapporo Ichiban  ...   3.5\n",
              "...               ...  ...   ...\n",
              "3687            Vifon  ...   3.5\n",
              "3688          Wai Wai  ...   1.0\n",
              "3689          Wai Wai  ...   2.0\n",
              "3690          Wai Wai  ...   2.0\n",
              "3691         Westbrae  ...   0.5\n",
              "\n",
              "[3692 rows x 5 columns]"
            ]
          },
          "metadata": {},
          "execution_count": 29
        }
      ]
    },
    {
      "cell_type": "markdown",
      "metadata": {
        "id": "n4OxtxpBkJgw"
      },
      "source": [
        "## **Ekstraksi Fitur, Visualisasi Data, dan Analisis Statistik**"
      ]
    },
    {
      "cell_type": "markdown",
      "metadata": {
        "id": "9p4XJSmD191J"
      },
      "source": [
        "### Ekstraksi Fitur"
      ]
    },
    {
      "cell_type": "markdown",
      "metadata": {
        "id": "yyGKJ6vx2DXF"
      },
      "source": [
        "### Visualisasi Data"
      ]
    },
    {
      "cell_type": "markdown",
      "metadata": {
        "id": "gyWAZa9L2DmB"
      },
      "source": [
        "### Analisis Statistik"
      ]
    },
    {
      "cell_type": "markdown",
      "metadata": {
        "id": "PYgINZjUkJnK"
      },
      "source": [
        "## **Rekayasa Fitur dan Persiapan Data**"
      ]
    },
    {
      "cell_type": "markdown",
      "metadata": {
        "id": "zSyHQnBwkJqu"
      },
      "source": [
        "## **Melatih Model Machine Learning**"
      ]
    }
  ]
}
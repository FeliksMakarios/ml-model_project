{
  "nbformat": 4,
  "nbformat_minor": 0,
  "metadata": {
    "colab": {
      "name": "UL - Deteksi Dini Diabetes.ipynb",
      "provenance": [],
      "authorship_tag": "ABX9TyPh0qPcpArk7o7wI+n6krvK",
      "include_colab_link": true
    },
    "kernelspec": {
      "name": "python3",
      "display_name": "Python 3"
    },
    "language_info": {
      "name": "python"
    }
  },
  "cells": [
    {
      "cell_type": "markdown",
      "metadata": {
        "id": "view-in-github",
        "colab_type": "text"
      },
      "source": [
        "<a href=\"https://colab.research.google.com/github/FeliksMakarios/ml-model_project/blob/main/UL_Deteksi_Dini_Diabetes.ipynb\" target=\"_parent\"><img src=\"https://colab.research.google.com/assets/colab-badge.svg\" alt=\"Open In Colab\"/></a>"
      ]
    },
    {
      "cell_type": "markdown",
      "metadata": {
        "id": "EqGGL8yj2hWc"
      },
      "source": [
        "# **Deteksi Dini Diabetes**"
      ]
    },
    {
      "cell_type": "markdown",
      "metadata": {
        "id": "yzPlyJLA2zjL"
      },
      "source": [
        "Dataset diambil dari _[UCI (University of California Irvine) machine learning repository](https://archive.ics.uci.edu/ml/datasets/Early+stage+diabetes+risk+prediction+dataset.)_. Pada proyek ini, kita akan melatih model machine learning untuk memprediksi apakah seseorang memiliki risiko diabetes."
      ]
    },
    {
      "cell_type": "code",
      "metadata": {
        "colab": {
          "base_uri": "https://localhost:8080/"
        },
        "id": "Lz8nkYeottnb",
        "outputId": "f3e8c397-88a7-4708-eb9f-8c081aa97e6a"
      },
      "source": [
        "# menghubungkan dataframe ke google drive\n",
        "from google.colab import drive\n",
        "drive.mount('/content/drive')"
      ],
      "execution_count": null,
      "outputs": [
        {
          "output_type": "stream",
          "name": "stdout",
          "text": [
            "Mounted at /content/drive\n"
          ]
        }
      ]
    },
    {
      "cell_type": "code",
      "metadata": {
        "id": "tEbap1LkvEhc"
      },
      "source": [
        "# import library os untuk bisa berinteraksi dengan file system yang ada pada operating system (os)\n",
        "import os\n",
        "\n",
        "os.chdir(\"/content/drive/My Drive/Dataset/Early stage diabetes risk prediction\")"
      ],
      "execution_count": null,
      "outputs": []
    },
    {
      "cell_type": "code",
      "metadata": {
        "id": "ZUSnR_zdwJOc"
      },
      "source": [
        "import pandas as pd"
      ],
      "execution_count": null,
      "outputs": []
    },
    {
      "cell_type": "markdown",
      "metadata": {
        "id": "lfk79Oi32Sls"
      },
      "source": [
        "## **Pengumpulan dan Pembersihan Data**"
      ]
    },
    {
      "cell_type": "markdown",
      "metadata": {
        "id": "obhswxvJ2DOo"
      },
      "source": [
        "### 1. Impor dataset"
      ]
    },
    {
      "cell_type": "code",
      "metadata": {
        "colab": {
          "base_uri": "https://localhost:8080/",
          "height": 258
        },
        "id": "czQMjkl9waCu",
        "outputId": "f85fef25-1e7b-4ebc-8bcd-3e8162512326"
      },
      "source": [
        "# ubah csv dataset ke dalam bentuk dataframe\n",
        "df = pd.read_csv('diabetes_data_upload.csv')\n",
        "df.head()"
      ],
      "execution_count": null,
      "outputs": [
        {
          "output_type": "execute_result",
          "data": {
            "text/html": [
              "<div>\n",
              "<style scoped>\n",
              "    .dataframe tbody tr th:only-of-type {\n",
              "        vertical-align: middle;\n",
              "    }\n",
              "\n",
              "    .dataframe tbody tr th {\n",
              "        vertical-align: top;\n",
              "    }\n",
              "\n",
              "    .dataframe thead th {\n",
              "        text-align: right;\n",
              "    }\n",
              "</style>\n",
              "<table border=\"1\" class=\"dataframe\">\n",
              "  <thead>\n",
              "    <tr style=\"text-align: right;\">\n",
              "      <th></th>\n",
              "      <th>Age</th>\n",
              "      <th>Gender</th>\n",
              "      <th>Polyuria</th>\n",
              "      <th>Polydipsia</th>\n",
              "      <th>sudden weight loss</th>\n",
              "      <th>weakness</th>\n",
              "      <th>Polyphagia</th>\n",
              "      <th>Genital thrush</th>\n",
              "      <th>visual blurring</th>\n",
              "      <th>Itching</th>\n",
              "      <th>Irritability</th>\n",
              "      <th>delayed healing</th>\n",
              "      <th>partial paresis</th>\n",
              "      <th>muscle stiffness</th>\n",
              "      <th>Alopecia</th>\n",
              "      <th>Obesity</th>\n",
              "      <th>class</th>\n",
              "    </tr>\n",
              "  </thead>\n",
              "  <tbody>\n",
              "    <tr>\n",
              "      <th>0</th>\n",
              "      <td>40</td>\n",
              "      <td>Male</td>\n",
              "      <td>No</td>\n",
              "      <td>Yes</td>\n",
              "      <td>No</td>\n",
              "      <td>Yes</td>\n",
              "      <td>No</td>\n",
              "      <td>No</td>\n",
              "      <td>No</td>\n",
              "      <td>Yes</td>\n",
              "      <td>No</td>\n",
              "      <td>Yes</td>\n",
              "      <td>No</td>\n",
              "      <td>Yes</td>\n",
              "      <td>Yes</td>\n",
              "      <td>Yes</td>\n",
              "      <td>Positive</td>\n",
              "    </tr>\n",
              "    <tr>\n",
              "      <th>1</th>\n",
              "      <td>58</td>\n",
              "      <td>Male</td>\n",
              "      <td>No</td>\n",
              "      <td>No</td>\n",
              "      <td>No</td>\n",
              "      <td>Yes</td>\n",
              "      <td>No</td>\n",
              "      <td>No</td>\n",
              "      <td>Yes</td>\n",
              "      <td>No</td>\n",
              "      <td>No</td>\n",
              "      <td>No</td>\n",
              "      <td>Yes</td>\n",
              "      <td>No</td>\n",
              "      <td>Yes</td>\n",
              "      <td>No</td>\n",
              "      <td>Positive</td>\n",
              "    </tr>\n",
              "    <tr>\n",
              "      <th>2</th>\n",
              "      <td>41</td>\n",
              "      <td>Male</td>\n",
              "      <td>Yes</td>\n",
              "      <td>No</td>\n",
              "      <td>No</td>\n",
              "      <td>Yes</td>\n",
              "      <td>Yes</td>\n",
              "      <td>No</td>\n",
              "      <td>No</td>\n",
              "      <td>Yes</td>\n",
              "      <td>No</td>\n",
              "      <td>Yes</td>\n",
              "      <td>No</td>\n",
              "      <td>Yes</td>\n",
              "      <td>Yes</td>\n",
              "      <td>No</td>\n",
              "      <td>Positive</td>\n",
              "    </tr>\n",
              "    <tr>\n",
              "      <th>3</th>\n",
              "      <td>45</td>\n",
              "      <td>Male</td>\n",
              "      <td>No</td>\n",
              "      <td>No</td>\n",
              "      <td>Yes</td>\n",
              "      <td>Yes</td>\n",
              "      <td>Yes</td>\n",
              "      <td>Yes</td>\n",
              "      <td>No</td>\n",
              "      <td>Yes</td>\n",
              "      <td>No</td>\n",
              "      <td>Yes</td>\n",
              "      <td>No</td>\n",
              "      <td>No</td>\n",
              "      <td>No</td>\n",
              "      <td>No</td>\n",
              "      <td>Positive</td>\n",
              "    </tr>\n",
              "    <tr>\n",
              "      <th>4</th>\n",
              "      <td>60</td>\n",
              "      <td>Male</td>\n",
              "      <td>Yes</td>\n",
              "      <td>Yes</td>\n",
              "      <td>Yes</td>\n",
              "      <td>Yes</td>\n",
              "      <td>Yes</td>\n",
              "      <td>No</td>\n",
              "      <td>Yes</td>\n",
              "      <td>Yes</td>\n",
              "      <td>Yes</td>\n",
              "      <td>Yes</td>\n",
              "      <td>Yes</td>\n",
              "      <td>Yes</td>\n",
              "      <td>Yes</td>\n",
              "      <td>Yes</td>\n",
              "      <td>Positive</td>\n",
              "    </tr>\n",
              "  </tbody>\n",
              "</table>\n",
              "</div>"
            ],
            "text/plain": [
              "   Age Gender Polyuria Polydipsia  ... muscle stiffness Alopecia Obesity     class\n",
              "0   40   Male       No        Yes  ...              Yes      Yes     Yes  Positive\n",
              "1   58   Male       No         No  ...               No      Yes      No  Positive\n",
              "2   41   Male      Yes         No  ...              Yes      Yes      No  Positive\n",
              "3   45   Male       No         No  ...               No       No      No  Positive\n",
              "4   60   Male      Yes        Yes  ...              Yes      Yes     Yes  Positive\n",
              "\n",
              "[5 rows x 17 columns]"
            ]
          },
          "metadata": {
            "tags": []
          },
          "execution_count": 14
        }
      ]
    },
    {
      "cell_type": "code",
      "metadata": {
        "colab": {
          "base_uri": "https://localhost:8080/"
        },
        "id": "B802vaviwrmp",
        "outputId": "05a50e9a-eda3-4319-e4f9-e3ec10e81e7c"
      },
      "source": [
        "df.info()"
      ],
      "execution_count": null,
      "outputs": [
        {
          "output_type": "stream",
          "text": [
            "<class 'pandas.core.frame.DataFrame'>\n",
            "RangeIndex: 520 entries, 0 to 519\n",
            "Data columns (total 17 columns):\n",
            " #   Column              Non-Null Count  Dtype \n",
            "---  ------              --------------  ----- \n",
            " 0   Age                 520 non-null    int64 \n",
            " 1   Gender              520 non-null    object\n",
            " 2   Polyuria            520 non-null    object\n",
            " 3   Polydipsia          520 non-null    object\n",
            " 4   sudden weight loss  520 non-null    object\n",
            " 5   weakness            520 non-null    object\n",
            " 6   Polyphagia          520 non-null    object\n",
            " 7   Genital thrush      520 non-null    object\n",
            " 8   visual blurring     520 non-null    object\n",
            " 9   Itching             520 non-null    object\n",
            " 10  Irritability        520 non-null    object\n",
            " 11  delayed healing     520 non-null    object\n",
            " 12  partial paresis     520 non-null    object\n",
            " 13  muscle stiffness    520 non-null    object\n",
            " 14  Alopecia            520 non-null    object\n",
            " 15  Obesity             520 non-null    object\n",
            " 16  class               520 non-null    object\n",
            "dtypes: int64(1), object(16)\n",
            "memory usage: 69.2+ KB\n"
          ],
          "name": "stdout"
        }
      ]
    },
    {
      "cell_type": "markdown",
      "metadata": {
        "id": "UF054rxS1OB1"
      },
      "source": [
        "### 2. Mengubah nilai string menjadi bentuk kategori numerik (1 dan 0)"
      ]
    },
    {
      "cell_type": "code",
      "metadata": {
        "colab": {
          "base_uri": "https://localhost:8080/",
          "height": 473
        },
        "id": "iXHrGMhnw6jz",
        "outputId": "a196ae29-f3f8-457a-a5fb-a302b9c2bf8f"
      },
      "source": [
        "# mengubah nilai/values pada dataframe dengan .replace\n",
        "# mengubahnya ke dalam bentuk kategori numerik\n",
        "\n",
        "# Yes/No menjadi 1/0\n",
        "df = df.replace(\"No\",0)\n",
        "df = df.replace(\"Yes\",1)\n",
        "\n",
        "# Positive/Negative menjadi 1/0\n",
        "df = df.replace(\"Negative\",0)\n",
        "df = df.replace(\"Positive\",1)\n",
        "\n",
        "# Male/Female menjadi 1/0\n",
        "df = df.replace(\"Female\",0)\n",
        "df = df.replace(\"Male\",1)\n",
        "\n",
        "df"
      ],
      "execution_count": null,
      "outputs": [
        {
          "output_type": "execute_result",
          "data": {
            "text/html": [
              "<div>\n",
              "<style scoped>\n",
              "    .dataframe tbody tr th:only-of-type {\n",
              "        vertical-align: middle;\n",
              "    }\n",
              "\n",
              "    .dataframe tbody tr th {\n",
              "        vertical-align: top;\n",
              "    }\n",
              "\n",
              "    .dataframe thead th {\n",
              "        text-align: right;\n",
              "    }\n",
              "</style>\n",
              "<table border=\"1\" class=\"dataframe\">\n",
              "  <thead>\n",
              "    <tr style=\"text-align: right;\">\n",
              "      <th></th>\n",
              "      <th>Age</th>\n",
              "      <th>Gender</th>\n",
              "      <th>Polyuria</th>\n",
              "      <th>Polydipsia</th>\n",
              "      <th>sudden weight loss</th>\n",
              "      <th>weakness</th>\n",
              "      <th>Polyphagia</th>\n",
              "      <th>Genital thrush</th>\n",
              "      <th>visual blurring</th>\n",
              "      <th>Itching</th>\n",
              "      <th>Irritability</th>\n",
              "      <th>delayed healing</th>\n",
              "      <th>partial paresis</th>\n",
              "      <th>muscle stiffness</th>\n",
              "      <th>Alopecia</th>\n",
              "      <th>Obesity</th>\n",
              "      <th>class</th>\n",
              "    </tr>\n",
              "  </thead>\n",
              "  <tbody>\n",
              "    <tr>\n",
              "      <th>0</th>\n",
              "      <td>40</td>\n",
              "      <td>1</td>\n",
              "      <td>0</td>\n",
              "      <td>1</td>\n",
              "      <td>0</td>\n",
              "      <td>1</td>\n",
              "      <td>0</td>\n",
              "      <td>0</td>\n",
              "      <td>0</td>\n",
              "      <td>1</td>\n",
              "      <td>0</td>\n",
              "      <td>1</td>\n",
              "      <td>0</td>\n",
              "      <td>1</td>\n",
              "      <td>1</td>\n",
              "      <td>1</td>\n",
              "      <td>1</td>\n",
              "    </tr>\n",
              "    <tr>\n",
              "      <th>1</th>\n",
              "      <td>58</td>\n",
              "      <td>1</td>\n",
              "      <td>0</td>\n",
              "      <td>0</td>\n",
              "      <td>0</td>\n",
              "      <td>1</td>\n",
              "      <td>0</td>\n",
              "      <td>0</td>\n",
              "      <td>1</td>\n",
              "      <td>0</td>\n",
              "      <td>0</td>\n",
              "      <td>0</td>\n",
              "      <td>1</td>\n",
              "      <td>0</td>\n",
              "      <td>1</td>\n",
              "      <td>0</td>\n",
              "      <td>1</td>\n",
              "    </tr>\n",
              "    <tr>\n",
              "      <th>2</th>\n",
              "      <td>41</td>\n",
              "      <td>1</td>\n",
              "      <td>1</td>\n",
              "      <td>0</td>\n",
              "      <td>0</td>\n",
              "      <td>1</td>\n",
              "      <td>1</td>\n",
              "      <td>0</td>\n",
              "      <td>0</td>\n",
              "      <td>1</td>\n",
              "      <td>0</td>\n",
              "      <td>1</td>\n",
              "      <td>0</td>\n",
              "      <td>1</td>\n",
              "      <td>1</td>\n",
              "      <td>0</td>\n",
              "      <td>1</td>\n",
              "    </tr>\n",
              "    <tr>\n",
              "      <th>3</th>\n",
              "      <td>45</td>\n",
              "      <td>1</td>\n",
              "      <td>0</td>\n",
              "      <td>0</td>\n",
              "      <td>1</td>\n",
              "      <td>1</td>\n",
              "      <td>1</td>\n",
              "      <td>1</td>\n",
              "      <td>0</td>\n",
              "      <td>1</td>\n",
              "      <td>0</td>\n",
              "      <td>1</td>\n",
              "      <td>0</td>\n",
              "      <td>0</td>\n",
              "      <td>0</td>\n",
              "      <td>0</td>\n",
              "      <td>1</td>\n",
              "    </tr>\n",
              "    <tr>\n",
              "      <th>4</th>\n",
              "      <td>60</td>\n",
              "      <td>1</td>\n",
              "      <td>1</td>\n",
              "      <td>1</td>\n",
              "      <td>1</td>\n",
              "      <td>1</td>\n",
              "      <td>1</td>\n",
              "      <td>0</td>\n",
              "      <td>1</td>\n",
              "      <td>1</td>\n",
              "      <td>1</td>\n",
              "      <td>1</td>\n",
              "      <td>1</td>\n",
              "      <td>1</td>\n",
              "      <td>1</td>\n",
              "      <td>1</td>\n",
              "      <td>1</td>\n",
              "    </tr>\n",
              "    <tr>\n",
              "      <th>...</th>\n",
              "      <td>...</td>\n",
              "      <td>...</td>\n",
              "      <td>...</td>\n",
              "      <td>...</td>\n",
              "      <td>...</td>\n",
              "      <td>...</td>\n",
              "      <td>...</td>\n",
              "      <td>...</td>\n",
              "      <td>...</td>\n",
              "      <td>...</td>\n",
              "      <td>...</td>\n",
              "      <td>...</td>\n",
              "      <td>...</td>\n",
              "      <td>...</td>\n",
              "      <td>...</td>\n",
              "      <td>...</td>\n",
              "      <td>...</td>\n",
              "    </tr>\n",
              "    <tr>\n",
              "      <th>515</th>\n",
              "      <td>39</td>\n",
              "      <td>0</td>\n",
              "      <td>1</td>\n",
              "      <td>1</td>\n",
              "      <td>1</td>\n",
              "      <td>0</td>\n",
              "      <td>1</td>\n",
              "      <td>0</td>\n",
              "      <td>0</td>\n",
              "      <td>1</td>\n",
              "      <td>0</td>\n",
              "      <td>1</td>\n",
              "      <td>1</td>\n",
              "      <td>0</td>\n",
              "      <td>0</td>\n",
              "      <td>0</td>\n",
              "      <td>1</td>\n",
              "    </tr>\n",
              "    <tr>\n",
              "      <th>516</th>\n",
              "      <td>48</td>\n",
              "      <td>0</td>\n",
              "      <td>1</td>\n",
              "      <td>1</td>\n",
              "      <td>1</td>\n",
              "      <td>1</td>\n",
              "      <td>1</td>\n",
              "      <td>0</td>\n",
              "      <td>0</td>\n",
              "      <td>1</td>\n",
              "      <td>1</td>\n",
              "      <td>1</td>\n",
              "      <td>1</td>\n",
              "      <td>0</td>\n",
              "      <td>0</td>\n",
              "      <td>0</td>\n",
              "      <td>1</td>\n",
              "    </tr>\n",
              "    <tr>\n",
              "      <th>517</th>\n",
              "      <td>58</td>\n",
              "      <td>0</td>\n",
              "      <td>1</td>\n",
              "      <td>1</td>\n",
              "      <td>1</td>\n",
              "      <td>1</td>\n",
              "      <td>1</td>\n",
              "      <td>0</td>\n",
              "      <td>1</td>\n",
              "      <td>0</td>\n",
              "      <td>0</td>\n",
              "      <td>0</td>\n",
              "      <td>1</td>\n",
              "      <td>1</td>\n",
              "      <td>0</td>\n",
              "      <td>1</td>\n",
              "      <td>1</td>\n",
              "    </tr>\n",
              "    <tr>\n",
              "      <th>518</th>\n",
              "      <td>32</td>\n",
              "      <td>0</td>\n",
              "      <td>0</td>\n",
              "      <td>0</td>\n",
              "      <td>0</td>\n",
              "      <td>1</td>\n",
              "      <td>0</td>\n",
              "      <td>0</td>\n",
              "      <td>1</td>\n",
              "      <td>1</td>\n",
              "      <td>0</td>\n",
              "      <td>1</td>\n",
              "      <td>0</td>\n",
              "      <td>0</td>\n",
              "      <td>1</td>\n",
              "      <td>0</td>\n",
              "      <td>0</td>\n",
              "    </tr>\n",
              "    <tr>\n",
              "      <th>519</th>\n",
              "      <td>42</td>\n",
              "      <td>1</td>\n",
              "      <td>0</td>\n",
              "      <td>0</td>\n",
              "      <td>0</td>\n",
              "      <td>0</td>\n",
              "      <td>0</td>\n",
              "      <td>0</td>\n",
              "      <td>0</td>\n",
              "      <td>0</td>\n",
              "      <td>0</td>\n",
              "      <td>0</td>\n",
              "      <td>0</td>\n",
              "      <td>0</td>\n",
              "      <td>0</td>\n",
              "      <td>0</td>\n",
              "      <td>0</td>\n",
              "    </tr>\n",
              "  </tbody>\n",
              "</table>\n",
              "<p>520 rows × 17 columns</p>\n",
              "</div>"
            ],
            "text/plain": [
              "     Age  Gender  Polyuria  ...  Alopecia  Obesity  class\n",
              "0     40       1         0  ...         1        1      1\n",
              "1     58       1         0  ...         1        0      1\n",
              "2     41       1         1  ...         1        0      1\n",
              "3     45       1         0  ...         0        0      1\n",
              "4     60       1         1  ...         1        1      1\n",
              "..   ...     ...       ...  ...       ...      ...    ...\n",
              "515   39       0         1  ...         0        0      1\n",
              "516   48       0         1  ...         0        0      1\n",
              "517   58       0         1  ...         0        1      1\n",
              "518   32       0         0  ...         1        0      0\n",
              "519   42       1         0  ...         0        0      0\n",
              "\n",
              "[520 rows x 17 columns]"
            ]
          },
          "metadata": {
            "tags": []
          },
          "execution_count": 16
        }
      ]
    },
    {
      "cell_type": "code",
      "metadata": {
        "colab": {
          "base_uri": "https://localhost:8080/"
        },
        "id": "eBwXnWCGyukY",
        "outputId": "a9614781-37d8-4a61-81e1-efeca3ff9b1c"
      },
      "source": [
        "# memeriksa missing values/ nilai yang hilang\n",
        "\n",
        "df.isnull().sum"
      ],
      "execution_count": null,
      "outputs": [
        {
          "output_type": "execute_result",
          "data": {
            "text/plain": [
              "<bound method DataFrame.sum of        Age  Gender  Polyuria  ...  Alopecia  Obesity  class\n",
              "0    False   False     False  ...     False    False  False\n",
              "1    False   False     False  ...     False    False  False\n",
              "2    False   False     False  ...     False    False  False\n",
              "3    False   False     False  ...     False    False  False\n",
              "4    False   False     False  ...     False    False  False\n",
              "..     ...     ...       ...  ...       ...      ...    ...\n",
              "515  False   False     False  ...     False    False  False\n",
              "516  False   False     False  ...     False    False  False\n",
              "517  False   False     False  ...     False    False  False\n",
              "518  False   False     False  ...     False    False  False\n",
              "519  False   False     False  ...     False    False  False\n",
              "\n",
              "[520 rows x 17 columns]>"
            ]
          },
          "metadata": {
            "tags": []
          },
          "execution_count": 17
        }
      ]
    },
    {
      "cell_type": "code",
      "metadata": {
        "colab": {
          "base_uri": "https://localhost:8080/"
        },
        "id": "dAFHzsvfy8n1",
        "outputId": "76c0446f-93a1-4255-c1a1-b2a0acda693c"
      },
      "source": [
        "# memeriksa tipe data dari setiap kolom\n",
        "df.dtypes"
      ],
      "execution_count": null,
      "outputs": [
        {
          "output_type": "execute_result",
          "data": {
            "text/plain": [
              "Age                   int64\n",
              "Gender                int64\n",
              "Polyuria              int64\n",
              "Polydipsia            int64\n",
              "sudden weight loss    int64\n",
              "weakness              int64\n",
              "Polyphagia            int64\n",
              "Genital thrush        int64\n",
              "visual blurring       int64\n",
              "Itching               int64\n",
              "Irritability          int64\n",
              "delayed healing       int64\n",
              "partial paresis       int64\n",
              "muscle stiffness      int64\n",
              "Alopecia              int64\n",
              "Obesity               int64\n",
              "class                 int64\n",
              "dtype: object"
            ]
          },
          "metadata": {
            "tags": []
          },
          "execution_count": 18
        }
      ]
    },
    {
      "cell_type": "markdown",
      "metadata": {
        "id": "K88vVEN31sHm"
      },
      "source": [
        "### 3. Mengubah nama kolom"
      ]
    },
    {
      "cell_type": "code",
      "metadata": {
        "colab": {
          "base_uri": "https://localhost:8080/",
          "height": 473
        },
        "id": "3szegWnvzIgH",
        "outputId": "cfea3c83-db2d-45d9-e7a0-b8fd607adfa4"
      },
      "source": [
        "# mengubah nama kolom Gender menjadi 'ismale'\n",
        "\n",
        "replace = {'Gender':'ismale'}\n",
        "\n",
        "df = df.rename(columns=replace)\n",
        "df"
      ],
      "execution_count": null,
      "outputs": [
        {
          "output_type": "execute_result",
          "data": {
            "text/html": [
              "<div>\n",
              "<style scoped>\n",
              "    .dataframe tbody tr th:only-of-type {\n",
              "        vertical-align: middle;\n",
              "    }\n",
              "\n",
              "    .dataframe tbody tr th {\n",
              "        vertical-align: top;\n",
              "    }\n",
              "\n",
              "    .dataframe thead th {\n",
              "        text-align: right;\n",
              "    }\n",
              "</style>\n",
              "<table border=\"1\" class=\"dataframe\">\n",
              "  <thead>\n",
              "    <tr style=\"text-align: right;\">\n",
              "      <th></th>\n",
              "      <th>Age</th>\n",
              "      <th>ismale</th>\n",
              "      <th>Polyuria</th>\n",
              "      <th>Polydipsia</th>\n",
              "      <th>sudden weight loss</th>\n",
              "      <th>weakness</th>\n",
              "      <th>Polyphagia</th>\n",
              "      <th>Genital thrush</th>\n",
              "      <th>visual blurring</th>\n",
              "      <th>Itching</th>\n",
              "      <th>Irritability</th>\n",
              "      <th>delayed healing</th>\n",
              "      <th>partial paresis</th>\n",
              "      <th>muscle stiffness</th>\n",
              "      <th>Alopecia</th>\n",
              "      <th>Obesity</th>\n",
              "      <th>class</th>\n",
              "    </tr>\n",
              "  </thead>\n",
              "  <tbody>\n",
              "    <tr>\n",
              "      <th>0</th>\n",
              "      <td>40</td>\n",
              "      <td>1</td>\n",
              "      <td>0</td>\n",
              "      <td>1</td>\n",
              "      <td>0</td>\n",
              "      <td>1</td>\n",
              "      <td>0</td>\n",
              "      <td>0</td>\n",
              "      <td>0</td>\n",
              "      <td>1</td>\n",
              "      <td>0</td>\n",
              "      <td>1</td>\n",
              "      <td>0</td>\n",
              "      <td>1</td>\n",
              "      <td>1</td>\n",
              "      <td>1</td>\n",
              "      <td>1</td>\n",
              "    </tr>\n",
              "    <tr>\n",
              "      <th>1</th>\n",
              "      <td>58</td>\n",
              "      <td>1</td>\n",
              "      <td>0</td>\n",
              "      <td>0</td>\n",
              "      <td>0</td>\n",
              "      <td>1</td>\n",
              "      <td>0</td>\n",
              "      <td>0</td>\n",
              "      <td>1</td>\n",
              "      <td>0</td>\n",
              "      <td>0</td>\n",
              "      <td>0</td>\n",
              "      <td>1</td>\n",
              "      <td>0</td>\n",
              "      <td>1</td>\n",
              "      <td>0</td>\n",
              "      <td>1</td>\n",
              "    </tr>\n",
              "    <tr>\n",
              "      <th>2</th>\n",
              "      <td>41</td>\n",
              "      <td>1</td>\n",
              "      <td>1</td>\n",
              "      <td>0</td>\n",
              "      <td>0</td>\n",
              "      <td>1</td>\n",
              "      <td>1</td>\n",
              "      <td>0</td>\n",
              "      <td>0</td>\n",
              "      <td>1</td>\n",
              "      <td>0</td>\n",
              "      <td>1</td>\n",
              "      <td>0</td>\n",
              "      <td>1</td>\n",
              "      <td>1</td>\n",
              "      <td>0</td>\n",
              "      <td>1</td>\n",
              "    </tr>\n",
              "    <tr>\n",
              "      <th>3</th>\n",
              "      <td>45</td>\n",
              "      <td>1</td>\n",
              "      <td>0</td>\n",
              "      <td>0</td>\n",
              "      <td>1</td>\n",
              "      <td>1</td>\n",
              "      <td>1</td>\n",
              "      <td>1</td>\n",
              "      <td>0</td>\n",
              "      <td>1</td>\n",
              "      <td>0</td>\n",
              "      <td>1</td>\n",
              "      <td>0</td>\n",
              "      <td>0</td>\n",
              "      <td>0</td>\n",
              "      <td>0</td>\n",
              "      <td>1</td>\n",
              "    </tr>\n",
              "    <tr>\n",
              "      <th>4</th>\n",
              "      <td>60</td>\n",
              "      <td>1</td>\n",
              "      <td>1</td>\n",
              "      <td>1</td>\n",
              "      <td>1</td>\n",
              "      <td>1</td>\n",
              "      <td>1</td>\n",
              "      <td>0</td>\n",
              "      <td>1</td>\n",
              "      <td>1</td>\n",
              "      <td>1</td>\n",
              "      <td>1</td>\n",
              "      <td>1</td>\n",
              "      <td>1</td>\n",
              "      <td>1</td>\n",
              "      <td>1</td>\n",
              "      <td>1</td>\n",
              "    </tr>\n",
              "    <tr>\n",
              "      <th>...</th>\n",
              "      <td>...</td>\n",
              "      <td>...</td>\n",
              "      <td>...</td>\n",
              "      <td>...</td>\n",
              "      <td>...</td>\n",
              "      <td>...</td>\n",
              "      <td>...</td>\n",
              "      <td>...</td>\n",
              "      <td>...</td>\n",
              "      <td>...</td>\n",
              "      <td>...</td>\n",
              "      <td>...</td>\n",
              "      <td>...</td>\n",
              "      <td>...</td>\n",
              "      <td>...</td>\n",
              "      <td>...</td>\n",
              "      <td>...</td>\n",
              "    </tr>\n",
              "    <tr>\n",
              "      <th>515</th>\n",
              "      <td>39</td>\n",
              "      <td>0</td>\n",
              "      <td>1</td>\n",
              "      <td>1</td>\n",
              "      <td>1</td>\n",
              "      <td>0</td>\n",
              "      <td>1</td>\n",
              "      <td>0</td>\n",
              "      <td>0</td>\n",
              "      <td>1</td>\n",
              "      <td>0</td>\n",
              "      <td>1</td>\n",
              "      <td>1</td>\n",
              "      <td>0</td>\n",
              "      <td>0</td>\n",
              "      <td>0</td>\n",
              "      <td>1</td>\n",
              "    </tr>\n",
              "    <tr>\n",
              "      <th>516</th>\n",
              "      <td>48</td>\n",
              "      <td>0</td>\n",
              "      <td>1</td>\n",
              "      <td>1</td>\n",
              "      <td>1</td>\n",
              "      <td>1</td>\n",
              "      <td>1</td>\n",
              "      <td>0</td>\n",
              "      <td>0</td>\n",
              "      <td>1</td>\n",
              "      <td>1</td>\n",
              "      <td>1</td>\n",
              "      <td>1</td>\n",
              "      <td>0</td>\n",
              "      <td>0</td>\n",
              "      <td>0</td>\n",
              "      <td>1</td>\n",
              "    </tr>\n",
              "    <tr>\n",
              "      <th>517</th>\n",
              "      <td>58</td>\n",
              "      <td>0</td>\n",
              "      <td>1</td>\n",
              "      <td>1</td>\n",
              "      <td>1</td>\n",
              "      <td>1</td>\n",
              "      <td>1</td>\n",
              "      <td>0</td>\n",
              "      <td>1</td>\n",
              "      <td>0</td>\n",
              "      <td>0</td>\n",
              "      <td>0</td>\n",
              "      <td>1</td>\n",
              "      <td>1</td>\n",
              "      <td>0</td>\n",
              "      <td>1</td>\n",
              "      <td>1</td>\n",
              "    </tr>\n",
              "    <tr>\n",
              "      <th>518</th>\n",
              "      <td>32</td>\n",
              "      <td>0</td>\n",
              "      <td>0</td>\n",
              "      <td>0</td>\n",
              "      <td>0</td>\n",
              "      <td>1</td>\n",
              "      <td>0</td>\n",
              "      <td>0</td>\n",
              "      <td>1</td>\n",
              "      <td>1</td>\n",
              "      <td>0</td>\n",
              "      <td>1</td>\n",
              "      <td>0</td>\n",
              "      <td>0</td>\n",
              "      <td>1</td>\n",
              "      <td>0</td>\n",
              "      <td>0</td>\n",
              "    </tr>\n",
              "    <tr>\n",
              "      <th>519</th>\n",
              "      <td>42</td>\n",
              "      <td>1</td>\n",
              "      <td>0</td>\n",
              "      <td>0</td>\n",
              "      <td>0</td>\n",
              "      <td>0</td>\n",
              "      <td>0</td>\n",
              "      <td>0</td>\n",
              "      <td>0</td>\n",
              "      <td>0</td>\n",
              "      <td>0</td>\n",
              "      <td>0</td>\n",
              "      <td>0</td>\n",
              "      <td>0</td>\n",
              "      <td>0</td>\n",
              "      <td>0</td>\n",
              "      <td>0</td>\n",
              "    </tr>\n",
              "  </tbody>\n",
              "</table>\n",
              "<p>520 rows × 17 columns</p>\n",
              "</div>"
            ],
            "text/plain": [
              "     Age  ismale  Polyuria  ...  Alopecia  Obesity  class\n",
              "0     40       1         0  ...         1        1      1\n",
              "1     58       1         0  ...         1        0      1\n",
              "2     41       1         1  ...         1        0      1\n",
              "3     45       1         0  ...         0        0      1\n",
              "4     60       1         1  ...         1        1      1\n",
              "..   ...     ...       ...  ...       ...      ...    ...\n",
              "515   39       0         1  ...         0        0      1\n",
              "516   48       0         1  ...         0        0      1\n",
              "517   58       0         1  ...         0        1      1\n",
              "518   32       0         0  ...         1        0      0\n",
              "519   42       1         0  ...         0        0      0\n",
              "\n",
              "[520 rows x 17 columns]"
            ]
          },
          "metadata": {
            "tags": []
          },
          "execution_count": 19
        }
      ]
    },
    {
      "cell_type": "code",
      "metadata": {
        "colab": {
          "base_uri": "https://localhost:8080/",
          "height": 473
        },
        "id": "2oB6XCZGzrjn",
        "outputId": "f139e404-ce39-439c-85b7-a7e6c1ef869b"
      },
      "source": [
        "# mengubah semua nama kolom menjadi lowercase\n",
        "\n",
        "df.columns = df.columns.str.lower()\n",
        "df"
      ],
      "execution_count": null,
      "outputs": [
        {
          "output_type": "execute_result",
          "data": {
            "text/html": [
              "<div>\n",
              "<style scoped>\n",
              "    .dataframe tbody tr th:only-of-type {\n",
              "        vertical-align: middle;\n",
              "    }\n",
              "\n",
              "    .dataframe tbody tr th {\n",
              "        vertical-align: top;\n",
              "    }\n",
              "\n",
              "    .dataframe thead th {\n",
              "        text-align: right;\n",
              "    }\n",
              "</style>\n",
              "<table border=\"1\" class=\"dataframe\">\n",
              "  <thead>\n",
              "    <tr style=\"text-align: right;\">\n",
              "      <th></th>\n",
              "      <th>age</th>\n",
              "      <th>ismale</th>\n",
              "      <th>polyuria</th>\n",
              "      <th>polydipsia</th>\n",
              "      <th>sudden weight loss</th>\n",
              "      <th>weakness</th>\n",
              "      <th>polyphagia</th>\n",
              "      <th>genital thrush</th>\n",
              "      <th>visual blurring</th>\n",
              "      <th>itching</th>\n",
              "      <th>irritability</th>\n",
              "      <th>delayed healing</th>\n",
              "      <th>partial paresis</th>\n",
              "      <th>muscle stiffness</th>\n",
              "      <th>alopecia</th>\n",
              "      <th>obesity</th>\n",
              "      <th>class</th>\n",
              "    </tr>\n",
              "  </thead>\n",
              "  <tbody>\n",
              "    <tr>\n",
              "      <th>0</th>\n",
              "      <td>40</td>\n",
              "      <td>1</td>\n",
              "      <td>0</td>\n",
              "      <td>1</td>\n",
              "      <td>0</td>\n",
              "      <td>1</td>\n",
              "      <td>0</td>\n",
              "      <td>0</td>\n",
              "      <td>0</td>\n",
              "      <td>1</td>\n",
              "      <td>0</td>\n",
              "      <td>1</td>\n",
              "      <td>0</td>\n",
              "      <td>1</td>\n",
              "      <td>1</td>\n",
              "      <td>1</td>\n",
              "      <td>1</td>\n",
              "    </tr>\n",
              "    <tr>\n",
              "      <th>1</th>\n",
              "      <td>58</td>\n",
              "      <td>1</td>\n",
              "      <td>0</td>\n",
              "      <td>0</td>\n",
              "      <td>0</td>\n",
              "      <td>1</td>\n",
              "      <td>0</td>\n",
              "      <td>0</td>\n",
              "      <td>1</td>\n",
              "      <td>0</td>\n",
              "      <td>0</td>\n",
              "      <td>0</td>\n",
              "      <td>1</td>\n",
              "      <td>0</td>\n",
              "      <td>1</td>\n",
              "      <td>0</td>\n",
              "      <td>1</td>\n",
              "    </tr>\n",
              "    <tr>\n",
              "      <th>2</th>\n",
              "      <td>41</td>\n",
              "      <td>1</td>\n",
              "      <td>1</td>\n",
              "      <td>0</td>\n",
              "      <td>0</td>\n",
              "      <td>1</td>\n",
              "      <td>1</td>\n",
              "      <td>0</td>\n",
              "      <td>0</td>\n",
              "      <td>1</td>\n",
              "      <td>0</td>\n",
              "      <td>1</td>\n",
              "      <td>0</td>\n",
              "      <td>1</td>\n",
              "      <td>1</td>\n",
              "      <td>0</td>\n",
              "      <td>1</td>\n",
              "    </tr>\n",
              "    <tr>\n",
              "      <th>3</th>\n",
              "      <td>45</td>\n",
              "      <td>1</td>\n",
              "      <td>0</td>\n",
              "      <td>0</td>\n",
              "      <td>1</td>\n",
              "      <td>1</td>\n",
              "      <td>1</td>\n",
              "      <td>1</td>\n",
              "      <td>0</td>\n",
              "      <td>1</td>\n",
              "      <td>0</td>\n",
              "      <td>1</td>\n",
              "      <td>0</td>\n",
              "      <td>0</td>\n",
              "      <td>0</td>\n",
              "      <td>0</td>\n",
              "      <td>1</td>\n",
              "    </tr>\n",
              "    <tr>\n",
              "      <th>4</th>\n",
              "      <td>60</td>\n",
              "      <td>1</td>\n",
              "      <td>1</td>\n",
              "      <td>1</td>\n",
              "      <td>1</td>\n",
              "      <td>1</td>\n",
              "      <td>1</td>\n",
              "      <td>0</td>\n",
              "      <td>1</td>\n",
              "      <td>1</td>\n",
              "      <td>1</td>\n",
              "      <td>1</td>\n",
              "      <td>1</td>\n",
              "      <td>1</td>\n",
              "      <td>1</td>\n",
              "      <td>1</td>\n",
              "      <td>1</td>\n",
              "    </tr>\n",
              "    <tr>\n",
              "      <th>...</th>\n",
              "      <td>...</td>\n",
              "      <td>...</td>\n",
              "      <td>...</td>\n",
              "      <td>...</td>\n",
              "      <td>...</td>\n",
              "      <td>...</td>\n",
              "      <td>...</td>\n",
              "      <td>...</td>\n",
              "      <td>...</td>\n",
              "      <td>...</td>\n",
              "      <td>...</td>\n",
              "      <td>...</td>\n",
              "      <td>...</td>\n",
              "      <td>...</td>\n",
              "      <td>...</td>\n",
              "      <td>...</td>\n",
              "      <td>...</td>\n",
              "    </tr>\n",
              "    <tr>\n",
              "      <th>515</th>\n",
              "      <td>39</td>\n",
              "      <td>0</td>\n",
              "      <td>1</td>\n",
              "      <td>1</td>\n",
              "      <td>1</td>\n",
              "      <td>0</td>\n",
              "      <td>1</td>\n",
              "      <td>0</td>\n",
              "      <td>0</td>\n",
              "      <td>1</td>\n",
              "      <td>0</td>\n",
              "      <td>1</td>\n",
              "      <td>1</td>\n",
              "      <td>0</td>\n",
              "      <td>0</td>\n",
              "      <td>0</td>\n",
              "      <td>1</td>\n",
              "    </tr>\n",
              "    <tr>\n",
              "      <th>516</th>\n",
              "      <td>48</td>\n",
              "      <td>0</td>\n",
              "      <td>1</td>\n",
              "      <td>1</td>\n",
              "      <td>1</td>\n",
              "      <td>1</td>\n",
              "      <td>1</td>\n",
              "      <td>0</td>\n",
              "      <td>0</td>\n",
              "      <td>1</td>\n",
              "      <td>1</td>\n",
              "      <td>1</td>\n",
              "      <td>1</td>\n",
              "      <td>0</td>\n",
              "      <td>0</td>\n",
              "      <td>0</td>\n",
              "      <td>1</td>\n",
              "    </tr>\n",
              "    <tr>\n",
              "      <th>517</th>\n",
              "      <td>58</td>\n",
              "      <td>0</td>\n",
              "      <td>1</td>\n",
              "      <td>1</td>\n",
              "      <td>1</td>\n",
              "      <td>1</td>\n",
              "      <td>1</td>\n",
              "      <td>0</td>\n",
              "      <td>1</td>\n",
              "      <td>0</td>\n",
              "      <td>0</td>\n",
              "      <td>0</td>\n",
              "      <td>1</td>\n",
              "      <td>1</td>\n",
              "      <td>0</td>\n",
              "      <td>1</td>\n",
              "      <td>1</td>\n",
              "    </tr>\n",
              "    <tr>\n",
              "      <th>518</th>\n",
              "      <td>32</td>\n",
              "      <td>0</td>\n",
              "      <td>0</td>\n",
              "      <td>0</td>\n",
              "      <td>0</td>\n",
              "      <td>1</td>\n",
              "      <td>0</td>\n",
              "      <td>0</td>\n",
              "      <td>1</td>\n",
              "      <td>1</td>\n",
              "      <td>0</td>\n",
              "      <td>1</td>\n",
              "      <td>0</td>\n",
              "      <td>0</td>\n",
              "      <td>1</td>\n",
              "      <td>0</td>\n",
              "      <td>0</td>\n",
              "    </tr>\n",
              "    <tr>\n",
              "      <th>519</th>\n",
              "      <td>42</td>\n",
              "      <td>1</td>\n",
              "      <td>0</td>\n",
              "      <td>0</td>\n",
              "      <td>0</td>\n",
              "      <td>0</td>\n",
              "      <td>0</td>\n",
              "      <td>0</td>\n",
              "      <td>0</td>\n",
              "      <td>0</td>\n",
              "      <td>0</td>\n",
              "      <td>0</td>\n",
              "      <td>0</td>\n",
              "      <td>0</td>\n",
              "      <td>0</td>\n",
              "      <td>0</td>\n",
              "      <td>0</td>\n",
              "    </tr>\n",
              "  </tbody>\n",
              "</table>\n",
              "<p>520 rows × 17 columns</p>\n",
              "</div>"
            ],
            "text/plain": [
              "     age  ismale  polyuria  ...  alopecia  obesity  class\n",
              "0     40       1         0  ...         1        1      1\n",
              "1     58       1         0  ...         1        0      1\n",
              "2     41       1         1  ...         1        0      1\n",
              "3     45       1         0  ...         0        0      1\n",
              "4     60       1         1  ...         1        1      1\n",
              "..   ...     ...       ...  ...       ...      ...    ...\n",
              "515   39       0         1  ...         0        0      1\n",
              "516   48       0         1  ...         0        0      1\n",
              "517   58       0         1  ...         0        1      1\n",
              "518   32       0         0  ...         1        0      0\n",
              "519   42       1         0  ...         0        0      0\n",
              "\n",
              "[520 rows x 17 columns]"
            ]
          },
          "metadata": {
            "tags": []
          },
          "execution_count": 21
        }
      ]
    },
    {
      "cell_type": "markdown",
      "metadata": {
        "id": "2Tg3eFhu1set"
      },
      "source": [
        "### 4. Ekspor DataFrame yang sudah dibersihkan ke dalam CSV"
      ]
    },
    {
      "cell_type": "code",
      "metadata": {
        "id": "dGglC92Z0nRz"
      },
      "source": [
        "# ekspor dataframe menjadi CSV\n",
        "df.to_csv(\"diabetes_data_clean.csv\", index=None)"
      ],
      "execution_count": null,
      "outputs": []
    },
    {
      "cell_type": "code",
      "metadata": {
        "colab": {
          "base_uri": "https://localhost:8080/",
          "height": 473
        },
        "id": "EcoSl95203ab",
        "outputId": "920cc3be-40d6-4fc3-91b7-9fa019a0b9ee"
      },
      "source": [
        "# import CSV dataset yang baru diekspor tadi menjadi dataframe\n",
        "pd.read_csv(\"diabetes_data_clean.csv\")"
      ],
      "execution_count": null,
      "outputs": [
        {
          "output_type": "execute_result",
          "data": {
            "text/html": [
              "<div>\n",
              "<style scoped>\n",
              "    .dataframe tbody tr th:only-of-type {\n",
              "        vertical-align: middle;\n",
              "    }\n",
              "\n",
              "    .dataframe tbody tr th {\n",
              "        vertical-align: top;\n",
              "    }\n",
              "\n",
              "    .dataframe thead th {\n",
              "        text-align: right;\n",
              "    }\n",
              "</style>\n",
              "<table border=\"1\" class=\"dataframe\">\n",
              "  <thead>\n",
              "    <tr style=\"text-align: right;\">\n",
              "      <th></th>\n",
              "      <th>age</th>\n",
              "      <th>ismale</th>\n",
              "      <th>polyuria</th>\n",
              "      <th>polydipsia</th>\n",
              "      <th>sudden weight loss</th>\n",
              "      <th>weakness</th>\n",
              "      <th>polyphagia</th>\n",
              "      <th>genital thrush</th>\n",
              "      <th>visual blurring</th>\n",
              "      <th>itching</th>\n",
              "      <th>irritability</th>\n",
              "      <th>delayed healing</th>\n",
              "      <th>partial paresis</th>\n",
              "      <th>muscle stiffness</th>\n",
              "      <th>alopecia</th>\n",
              "      <th>obesity</th>\n",
              "      <th>class</th>\n",
              "    </tr>\n",
              "  </thead>\n",
              "  <tbody>\n",
              "    <tr>\n",
              "      <th>0</th>\n",
              "      <td>40</td>\n",
              "      <td>1</td>\n",
              "      <td>0</td>\n",
              "      <td>1</td>\n",
              "      <td>0</td>\n",
              "      <td>1</td>\n",
              "      <td>0</td>\n",
              "      <td>0</td>\n",
              "      <td>0</td>\n",
              "      <td>1</td>\n",
              "      <td>0</td>\n",
              "      <td>1</td>\n",
              "      <td>0</td>\n",
              "      <td>1</td>\n",
              "      <td>1</td>\n",
              "      <td>1</td>\n",
              "      <td>1</td>\n",
              "    </tr>\n",
              "    <tr>\n",
              "      <th>1</th>\n",
              "      <td>58</td>\n",
              "      <td>1</td>\n",
              "      <td>0</td>\n",
              "      <td>0</td>\n",
              "      <td>0</td>\n",
              "      <td>1</td>\n",
              "      <td>0</td>\n",
              "      <td>0</td>\n",
              "      <td>1</td>\n",
              "      <td>0</td>\n",
              "      <td>0</td>\n",
              "      <td>0</td>\n",
              "      <td>1</td>\n",
              "      <td>0</td>\n",
              "      <td>1</td>\n",
              "      <td>0</td>\n",
              "      <td>1</td>\n",
              "    </tr>\n",
              "    <tr>\n",
              "      <th>2</th>\n",
              "      <td>41</td>\n",
              "      <td>1</td>\n",
              "      <td>1</td>\n",
              "      <td>0</td>\n",
              "      <td>0</td>\n",
              "      <td>1</td>\n",
              "      <td>1</td>\n",
              "      <td>0</td>\n",
              "      <td>0</td>\n",
              "      <td>1</td>\n",
              "      <td>0</td>\n",
              "      <td>1</td>\n",
              "      <td>0</td>\n",
              "      <td>1</td>\n",
              "      <td>1</td>\n",
              "      <td>0</td>\n",
              "      <td>1</td>\n",
              "    </tr>\n",
              "    <tr>\n",
              "      <th>3</th>\n",
              "      <td>45</td>\n",
              "      <td>1</td>\n",
              "      <td>0</td>\n",
              "      <td>0</td>\n",
              "      <td>1</td>\n",
              "      <td>1</td>\n",
              "      <td>1</td>\n",
              "      <td>1</td>\n",
              "      <td>0</td>\n",
              "      <td>1</td>\n",
              "      <td>0</td>\n",
              "      <td>1</td>\n",
              "      <td>0</td>\n",
              "      <td>0</td>\n",
              "      <td>0</td>\n",
              "      <td>0</td>\n",
              "      <td>1</td>\n",
              "    </tr>\n",
              "    <tr>\n",
              "      <th>4</th>\n",
              "      <td>60</td>\n",
              "      <td>1</td>\n",
              "      <td>1</td>\n",
              "      <td>1</td>\n",
              "      <td>1</td>\n",
              "      <td>1</td>\n",
              "      <td>1</td>\n",
              "      <td>0</td>\n",
              "      <td>1</td>\n",
              "      <td>1</td>\n",
              "      <td>1</td>\n",
              "      <td>1</td>\n",
              "      <td>1</td>\n",
              "      <td>1</td>\n",
              "      <td>1</td>\n",
              "      <td>1</td>\n",
              "      <td>1</td>\n",
              "    </tr>\n",
              "    <tr>\n",
              "      <th>...</th>\n",
              "      <td>...</td>\n",
              "      <td>...</td>\n",
              "      <td>...</td>\n",
              "      <td>...</td>\n",
              "      <td>...</td>\n",
              "      <td>...</td>\n",
              "      <td>...</td>\n",
              "      <td>...</td>\n",
              "      <td>...</td>\n",
              "      <td>...</td>\n",
              "      <td>...</td>\n",
              "      <td>...</td>\n",
              "      <td>...</td>\n",
              "      <td>...</td>\n",
              "      <td>...</td>\n",
              "      <td>...</td>\n",
              "      <td>...</td>\n",
              "    </tr>\n",
              "    <tr>\n",
              "      <th>515</th>\n",
              "      <td>39</td>\n",
              "      <td>0</td>\n",
              "      <td>1</td>\n",
              "      <td>1</td>\n",
              "      <td>1</td>\n",
              "      <td>0</td>\n",
              "      <td>1</td>\n",
              "      <td>0</td>\n",
              "      <td>0</td>\n",
              "      <td>1</td>\n",
              "      <td>0</td>\n",
              "      <td>1</td>\n",
              "      <td>1</td>\n",
              "      <td>0</td>\n",
              "      <td>0</td>\n",
              "      <td>0</td>\n",
              "      <td>1</td>\n",
              "    </tr>\n",
              "    <tr>\n",
              "      <th>516</th>\n",
              "      <td>48</td>\n",
              "      <td>0</td>\n",
              "      <td>1</td>\n",
              "      <td>1</td>\n",
              "      <td>1</td>\n",
              "      <td>1</td>\n",
              "      <td>1</td>\n",
              "      <td>0</td>\n",
              "      <td>0</td>\n",
              "      <td>1</td>\n",
              "      <td>1</td>\n",
              "      <td>1</td>\n",
              "      <td>1</td>\n",
              "      <td>0</td>\n",
              "      <td>0</td>\n",
              "      <td>0</td>\n",
              "      <td>1</td>\n",
              "    </tr>\n",
              "    <tr>\n",
              "      <th>517</th>\n",
              "      <td>58</td>\n",
              "      <td>0</td>\n",
              "      <td>1</td>\n",
              "      <td>1</td>\n",
              "      <td>1</td>\n",
              "      <td>1</td>\n",
              "      <td>1</td>\n",
              "      <td>0</td>\n",
              "      <td>1</td>\n",
              "      <td>0</td>\n",
              "      <td>0</td>\n",
              "      <td>0</td>\n",
              "      <td>1</td>\n",
              "      <td>1</td>\n",
              "      <td>0</td>\n",
              "      <td>1</td>\n",
              "      <td>1</td>\n",
              "    </tr>\n",
              "    <tr>\n",
              "      <th>518</th>\n",
              "      <td>32</td>\n",
              "      <td>0</td>\n",
              "      <td>0</td>\n",
              "      <td>0</td>\n",
              "      <td>0</td>\n",
              "      <td>1</td>\n",
              "      <td>0</td>\n",
              "      <td>0</td>\n",
              "      <td>1</td>\n",
              "      <td>1</td>\n",
              "      <td>0</td>\n",
              "      <td>1</td>\n",
              "      <td>0</td>\n",
              "      <td>0</td>\n",
              "      <td>1</td>\n",
              "      <td>0</td>\n",
              "      <td>0</td>\n",
              "    </tr>\n",
              "    <tr>\n",
              "      <th>519</th>\n",
              "      <td>42</td>\n",
              "      <td>1</td>\n",
              "      <td>0</td>\n",
              "      <td>0</td>\n",
              "      <td>0</td>\n",
              "      <td>0</td>\n",
              "      <td>0</td>\n",
              "      <td>0</td>\n",
              "      <td>0</td>\n",
              "      <td>0</td>\n",
              "      <td>0</td>\n",
              "      <td>0</td>\n",
              "      <td>0</td>\n",
              "      <td>0</td>\n",
              "      <td>0</td>\n",
              "      <td>0</td>\n",
              "      <td>0</td>\n",
              "    </tr>\n",
              "  </tbody>\n",
              "</table>\n",
              "<p>520 rows × 17 columns</p>\n",
              "</div>"
            ],
            "text/plain": [
              "     age  ismale  polyuria  ...  alopecia  obesity  class\n",
              "0     40       1         0  ...         1        1      1\n",
              "1     58       1         0  ...         1        0      1\n",
              "2     41       1         1  ...         1        0      1\n",
              "3     45       1         0  ...         0        0      1\n",
              "4     60       1         1  ...         1        1      1\n",
              "..   ...     ...       ...  ...       ...      ...    ...\n",
              "515   39       0         1  ...         0        0      1\n",
              "516   48       0         1  ...         0        0      1\n",
              "517   58       0         1  ...         0        1      1\n",
              "518   32       0         0  ...         1        0      0\n",
              "519   42       1         0  ...         0        0      0\n",
              "\n",
              "[520 rows x 17 columns]"
            ]
          },
          "metadata": {
            "tags": []
          },
          "execution_count": 24
        }
      ]
    },
    {
      "cell_type": "markdown",
      "metadata": {
        "id": "KpLMBh6K4E82"
      },
      "source": [
        ""
      ]
    },
    {
      "cell_type": "markdown",
      "metadata": {
        "id": "dH4lsmTl4M0s"
      },
      "source": [
        "## **Visualisasi dan Statistik Data**"
      ]
    },
    {
      "cell_type": "code",
      "metadata": {
        "id": "uw5W0-Hi9qaZ",
        "colab": {
          "base_uri": "https://localhost:8080/"
        },
        "outputId": "823b2adb-b64b-42ff-fa51-8057cbaa8f28"
      },
      "source": [
        "# import libraries\n",
        "import seaborn as sns\n",
        "import matplotlib.pyplot as plt\n",
        "\n",
        "# import stats libraries\n",
        "from scipy.stats import chi2_contingency\n",
        "from statsmodels.graphics.gofplots import qqplot # menilai normalitas\n",
        "from statsmodels.stats.weightstats import ztest # melakukan uji coba statistik perbedaan antara dua sampel"
      ],
      "execution_count": null,
      "outputs": [
        {
          "output_type": "stream",
          "text": [
            "/usr/local/lib/python3.7/dist-packages/statsmodels/tools/_testing.py:19: FutureWarning: pandas.util.testing is deprecated. Use the functions in the public API at pandas.testing instead.\n",
            "  import pandas.util.testing as tm\n"
          ],
          "name": "stderr"
        }
      ]
    },
    {
      "cell_type": "code",
      "metadata": {
        "colab": {
          "base_uri": "https://localhost:8080/",
          "height": 419
        },
        "id": "syg6Yiii_JEa",
        "outputId": "25e576fa-709b-451e-b830-901e085be118"
      },
      "source": [
        "df2 = pd.read_csv(\"diabetes_data_clean.csv\")\n",
        "df2"
      ],
      "execution_count": null,
      "outputs": [
        {
          "output_type": "execute_result",
          "data": {
            "text/html": [
              "<div>\n",
              "<style scoped>\n",
              "    .dataframe tbody tr th:only-of-type {\n",
              "        vertical-align: middle;\n",
              "    }\n",
              "\n",
              "    .dataframe tbody tr th {\n",
              "        vertical-align: top;\n",
              "    }\n",
              "\n",
              "    .dataframe thead th {\n",
              "        text-align: right;\n",
              "    }\n",
              "</style>\n",
              "<table border=\"1\" class=\"dataframe\">\n",
              "  <thead>\n",
              "    <tr style=\"text-align: right;\">\n",
              "      <th></th>\n",
              "      <th>age</th>\n",
              "      <th>ismale</th>\n",
              "      <th>polyuria</th>\n",
              "      <th>polydipsia</th>\n",
              "      <th>sudden weight loss</th>\n",
              "      <th>weakness</th>\n",
              "      <th>polyphagia</th>\n",
              "      <th>genital thrush</th>\n",
              "      <th>visual blurring</th>\n",
              "      <th>itching</th>\n",
              "      <th>irritability</th>\n",
              "      <th>delayed healing</th>\n",
              "      <th>partial paresis</th>\n",
              "      <th>muscle stiffness</th>\n",
              "      <th>alopecia</th>\n",
              "      <th>obesity</th>\n",
              "      <th>class</th>\n",
              "    </tr>\n",
              "  </thead>\n",
              "  <tbody>\n",
              "    <tr>\n",
              "      <th>0</th>\n",
              "      <td>40</td>\n",
              "      <td>1</td>\n",
              "      <td>0</td>\n",
              "      <td>1</td>\n",
              "      <td>0</td>\n",
              "      <td>1</td>\n",
              "      <td>0</td>\n",
              "      <td>0</td>\n",
              "      <td>0</td>\n",
              "      <td>1</td>\n",
              "      <td>0</td>\n",
              "      <td>1</td>\n",
              "      <td>0</td>\n",
              "      <td>1</td>\n",
              "      <td>1</td>\n",
              "      <td>1</td>\n",
              "      <td>1</td>\n",
              "    </tr>\n",
              "    <tr>\n",
              "      <th>1</th>\n",
              "      <td>58</td>\n",
              "      <td>1</td>\n",
              "      <td>0</td>\n",
              "      <td>0</td>\n",
              "      <td>0</td>\n",
              "      <td>1</td>\n",
              "      <td>0</td>\n",
              "      <td>0</td>\n",
              "      <td>1</td>\n",
              "      <td>0</td>\n",
              "      <td>0</td>\n",
              "      <td>0</td>\n",
              "      <td>1</td>\n",
              "      <td>0</td>\n",
              "      <td>1</td>\n",
              "      <td>0</td>\n",
              "      <td>1</td>\n",
              "    </tr>\n",
              "    <tr>\n",
              "      <th>2</th>\n",
              "      <td>41</td>\n",
              "      <td>1</td>\n",
              "      <td>1</td>\n",
              "      <td>0</td>\n",
              "      <td>0</td>\n",
              "      <td>1</td>\n",
              "      <td>1</td>\n",
              "      <td>0</td>\n",
              "      <td>0</td>\n",
              "      <td>1</td>\n",
              "      <td>0</td>\n",
              "      <td>1</td>\n",
              "      <td>0</td>\n",
              "      <td>1</td>\n",
              "      <td>1</td>\n",
              "      <td>0</td>\n",
              "      <td>1</td>\n",
              "    </tr>\n",
              "    <tr>\n",
              "      <th>3</th>\n",
              "      <td>45</td>\n",
              "      <td>1</td>\n",
              "      <td>0</td>\n",
              "      <td>0</td>\n",
              "      <td>1</td>\n",
              "      <td>1</td>\n",
              "      <td>1</td>\n",
              "      <td>1</td>\n",
              "      <td>0</td>\n",
              "      <td>1</td>\n",
              "      <td>0</td>\n",
              "      <td>1</td>\n",
              "      <td>0</td>\n",
              "      <td>0</td>\n",
              "      <td>0</td>\n",
              "      <td>0</td>\n",
              "      <td>1</td>\n",
              "    </tr>\n",
              "    <tr>\n",
              "      <th>4</th>\n",
              "      <td>60</td>\n",
              "      <td>1</td>\n",
              "      <td>1</td>\n",
              "      <td>1</td>\n",
              "      <td>1</td>\n",
              "      <td>1</td>\n",
              "      <td>1</td>\n",
              "      <td>0</td>\n",
              "      <td>1</td>\n",
              "      <td>1</td>\n",
              "      <td>1</td>\n",
              "      <td>1</td>\n",
              "      <td>1</td>\n",
              "      <td>1</td>\n",
              "      <td>1</td>\n",
              "      <td>1</td>\n",
              "      <td>1</td>\n",
              "    </tr>\n",
              "    <tr>\n",
              "      <th>...</th>\n",
              "      <td>...</td>\n",
              "      <td>...</td>\n",
              "      <td>...</td>\n",
              "      <td>...</td>\n",
              "      <td>...</td>\n",
              "      <td>...</td>\n",
              "      <td>...</td>\n",
              "      <td>...</td>\n",
              "      <td>...</td>\n",
              "      <td>...</td>\n",
              "      <td>...</td>\n",
              "      <td>...</td>\n",
              "      <td>...</td>\n",
              "      <td>...</td>\n",
              "      <td>...</td>\n",
              "      <td>...</td>\n",
              "      <td>...</td>\n",
              "    </tr>\n",
              "    <tr>\n",
              "      <th>515</th>\n",
              "      <td>39</td>\n",
              "      <td>0</td>\n",
              "      <td>1</td>\n",
              "      <td>1</td>\n",
              "      <td>1</td>\n",
              "      <td>0</td>\n",
              "      <td>1</td>\n",
              "      <td>0</td>\n",
              "      <td>0</td>\n",
              "      <td>1</td>\n",
              "      <td>0</td>\n",
              "      <td>1</td>\n",
              "      <td>1</td>\n",
              "      <td>0</td>\n",
              "      <td>0</td>\n",
              "      <td>0</td>\n",
              "      <td>1</td>\n",
              "    </tr>\n",
              "    <tr>\n",
              "      <th>516</th>\n",
              "      <td>48</td>\n",
              "      <td>0</td>\n",
              "      <td>1</td>\n",
              "      <td>1</td>\n",
              "      <td>1</td>\n",
              "      <td>1</td>\n",
              "      <td>1</td>\n",
              "      <td>0</td>\n",
              "      <td>0</td>\n",
              "      <td>1</td>\n",
              "      <td>1</td>\n",
              "      <td>1</td>\n",
              "      <td>1</td>\n",
              "      <td>0</td>\n",
              "      <td>0</td>\n",
              "      <td>0</td>\n",
              "      <td>1</td>\n",
              "    </tr>\n",
              "    <tr>\n",
              "      <th>517</th>\n",
              "      <td>58</td>\n",
              "      <td>0</td>\n",
              "      <td>1</td>\n",
              "      <td>1</td>\n",
              "      <td>1</td>\n",
              "      <td>1</td>\n",
              "      <td>1</td>\n",
              "      <td>0</td>\n",
              "      <td>1</td>\n",
              "      <td>0</td>\n",
              "      <td>0</td>\n",
              "      <td>0</td>\n",
              "      <td>1</td>\n",
              "      <td>1</td>\n",
              "      <td>0</td>\n",
              "      <td>1</td>\n",
              "      <td>1</td>\n",
              "    </tr>\n",
              "    <tr>\n",
              "      <th>518</th>\n",
              "      <td>32</td>\n",
              "      <td>0</td>\n",
              "      <td>0</td>\n",
              "      <td>0</td>\n",
              "      <td>0</td>\n",
              "      <td>1</td>\n",
              "      <td>0</td>\n",
              "      <td>0</td>\n",
              "      <td>1</td>\n",
              "      <td>1</td>\n",
              "      <td>0</td>\n",
              "      <td>1</td>\n",
              "      <td>0</td>\n",
              "      <td>0</td>\n",
              "      <td>1</td>\n",
              "      <td>0</td>\n",
              "      <td>0</td>\n",
              "    </tr>\n",
              "    <tr>\n",
              "      <th>519</th>\n",
              "      <td>42</td>\n",
              "      <td>1</td>\n",
              "      <td>0</td>\n",
              "      <td>0</td>\n",
              "      <td>0</td>\n",
              "      <td>0</td>\n",
              "      <td>0</td>\n",
              "      <td>0</td>\n",
              "      <td>0</td>\n",
              "      <td>0</td>\n",
              "      <td>0</td>\n",
              "      <td>0</td>\n",
              "      <td>0</td>\n",
              "      <td>0</td>\n",
              "      <td>0</td>\n",
              "      <td>0</td>\n",
              "      <td>0</td>\n",
              "    </tr>\n",
              "  </tbody>\n",
              "</table>\n",
              "<p>520 rows × 17 columns</p>\n",
              "</div>"
            ],
            "text/plain": [
              "     age  ismale  polyuria  ...  alopecia  obesity  class\n",
              "0     40       1         0  ...         1        1      1\n",
              "1     58       1         0  ...         1        0      1\n",
              "2     41       1         1  ...         1        0      1\n",
              "3     45       1         0  ...         0        0      1\n",
              "4     60       1         1  ...         1        1      1\n",
              "..   ...     ...       ...  ...       ...      ...    ...\n",
              "515   39       0         1  ...         0        0      1\n",
              "516   48       0         1  ...         0        0      1\n",
              "517   58       0         1  ...         0        1      1\n",
              "518   32       0         0  ...         1        0      0\n",
              "519   42       1         0  ...         0        0      0\n",
              "\n",
              "[520 rows x 17 columns]"
            ]
          },
          "metadata": {},
          "execution_count": 4
        }
      ]
    },
    {
      "cell_type": "markdown",
      "metadata": {
        "id": "UTRlhUWNXbuB"
      },
      "source": [
        "### Univariate Analysis"
      ]
    },
    {
      "cell_type": "markdown",
      "metadata": {
        "id": "V3Rh_c-6_e3J"
      },
      "source": [
        "Karena kolom `age` berisi data _continuous integer_ (data angka berkelanjutan), kita dapat menyelidikinya lebih lanjut menggunakan histogram. Hal ini dilakukan untuk melihat apakah data usia terdistrubsi dengan normal dan juga melihat rentang usia yang ada."
      ]
    },
    {
      "cell_type": "code",
      "metadata": {
        "colab": {
          "base_uri": "https://localhost:8080/",
          "height": 316
        },
        "id": "Wyncyy2H_U_E",
        "outputId": "d83d3a71-2dfe-4d49-bee3-16afdc8cc638"
      },
      "source": [
        "plt.hist(df2['age'])"
      ],
      "execution_count": null,
      "outputs": [
        {
          "output_type": "execute_result",
          "data": {
            "text/plain": [
              "(array([  1.,  44.,  83., 103.,  91., 118.,  46.,  29.,   1.,   4.]),\n",
              " array([16. , 23.4, 30.8, 38.2, 45.6, 53. , 60.4, 67.8, 75.2, 82.6, 90. ]),\n",
              " <a list of 10 Patch objects>)"
            ]
          },
          "metadata": {},
          "execution_count": 5
        },
        {
          "output_type": "display_data",
          "data": {
            "image/png": "[encoded data removed]",
            "text/plain": [
              "<Figure size 432x288 with 1 Axes>"
            ]
          },
          "metadata": {
            "needs_background": "light"
          }
        }
      ]
    },
    {
      "cell_type": "code",
      "metadata": {
        "colab": {
          "base_uri": "https://localhost:8080/"
        },
        "id": "J2R0_xEgAh_X",
        "outputId": "873f3628-3033-4b6d-c79a-9181eeaf7957"
      },
      "source": [
        "# rata-rata (mean) dari usia\n",
        "\n",
        "df2['age'].mean()"
      ],
      "execution_count": null,
      "outputs": [
        {
          "output_type": "execute_result",
          "data": {
            "text/plain": [
              "48.02884615384615"
            ]
          },
          "metadata": {},
          "execution_count": 6
        }
      ]
    },
    {
      "cell_type": "code",
      "metadata": {
        "colab": {
          "base_uri": "https://localhost:8080/"
        },
        "id": "rTp5PalKAoaT",
        "outputId": "6002ee16-d0aa-4ea0-bcaa-87a6854e4d19"
      },
      "source": [
        "# median dari usia\n",
        "\n",
        "df2['age'].median()"
      ],
      "execution_count": null,
      "outputs": [
        {
          "output_type": "execute_result",
          "data": {
            "text/plain": [
              "47.5"
            ]
          },
          "metadata": {},
          "execution_count": 7
        }
      ]
    },
    {
      "cell_type": "code",
      "metadata": {
        "colab": {
          "base_uri": "https://localhost:8080/"
        },
        "id": "1C3wKD4jAwMp",
        "outputId": "6c32d275-0585-4746-ec6e-70b2fb581ca9"
      },
      "source": [
        "# menampilkan daftar nama kolom dari indeks 1 sampai akhir\n",
        "columns = df2.columns[1:]\n",
        "columns"
      ],
      "execution_count": null,
      "outputs": [
        {
          "output_type": "execute_result",
          "data": {
            "text/plain": [
              "Index(['ismale', 'polyuria', 'polydipsia', 'sudden weight loss', 'weakness',\n",
              "       'polyphagia', 'genital thrush', 'visual blurring', 'itching',\n",
              "       'irritability', 'delayed healing', 'partial paresis',\n",
              "       'muscle stiffness', 'alopecia', 'obesity', 'class'],\n",
              "      dtype='object')"
            ]
          },
          "metadata": {},
          "execution_count": 8
        }
      ]
    },
    {
      "cell_type": "code",
      "metadata": {
        "colab": {
          "base_uri": "https://localhost:8080/",
          "height": 1000
        },
        "id": "pHFAyK4KCvxR",
        "outputId": "a0e3a777-e7c5-4b2f-b903-683d6b86385a"
      },
      "source": [
        "# buat plot countplot secara iteratif pada kolom 1 sampai terakhir\n",
        "\n",
        "for column in columns:\n",
        "  sns.countplot(df2[column])\n",
        "  plt.title(column)\n",
        "  sns.despine()\n",
        "  plt.show()"
      ],
      "execution_count": null,
      "outputs": [
        {
          "output_type": "stream",
          "text": [
            "/usr/local/lib/python3.7/dist-packages/seaborn/_decorators.py:43: FutureWarning: Pass the following variable as a keyword arg: x. From version 0.12, the only valid positional argument will be `data`, and passing other arguments without an explicit keyword will result in an error or misinterpretation.\n",
            "  FutureWarning\n"
          ],
          "name": "stderr"
        },
        {
          "output_type": "display_data",
          "data": {
            "image/png": "[encoded data removed]",
            "text/plain": [
              "<Figure size 432x288 with 1 Axes>"
            ]
          },
          "metadata": {
            "needs_background": "light"
          }
        },
        {
          "output_type": "stream",
          "text": [
            "/usr/local/lib/python3.7/dist-packages/seaborn/_decorators.py:43: FutureWarning: Pass the following variable as a keyword arg: x. From version 0.12, the only valid positional argument will be `data`, and passing other arguments without an explicit keyword will result in an error or misinterpretation.\n",
            "  FutureWarning\n"
          ],
          "name": "stderr"
        },
        {
          "output_type": "display_data",
          "data": {
            "image/png": "[encoded data removed]",
            "text/plain": [
              "<Figure size 432x288 with 1 Axes>"
            ]
          },
          "metadata": {
            "needs_background": "light"
          }
        },
        {
          "output_type": "stream",
          "text": [
            "/usr/local/lib/python3.7/dist-packages/seaborn/_decorators.py:43: FutureWarning: Pass the following variable as a keyword arg: x. From version 0.12, the only valid positional argument will be `data`, and passing other arguments without an explicit keyword will result in an error or misinterpretation.\n",
            "  FutureWarning\n"
          ],
          "name": "stderr"
        },
        {
          "output_type": "display_data",
          "data": {
            "image/png": "[encoded data removed]",
            "text/plain": [
              "<Figure size 432x288 with 1 Axes>"
            ]
          },
          "metadata": {
            "needs_background": "light"
          }
        },
        {
          "output_type": "stream",
          "text": [
            "/usr/local/lib/python3.7/dist-packages/seaborn/_decorators.py:43: FutureWarning: Pass the following variable as a keyword arg: x. From version 0.12, the only valid positional argument will be `data`, and passing other arguments without an explicit keyword will result in an error or misinterpretation.\n",
            "  FutureWarning\n"
          ],
          "name": "stderr"
        },
        {
          "output_type": "display_data",
          "data": {
            "image/png": "[encoded data removed]",
            "text/plain": [
              "<Figure size 432x288 with 1 Axes>"
            ]
          },
          "metadata": {
            "needs_background": "light"
          }
        },
        {
          "output_type": "stream",
          "text": [
            "/usr/local/lib/python3.7/dist-packages/seaborn/_decorators.py:43: FutureWarning: Pass the following variable as a keyword arg: x. From version 0.12, the only valid positional argument will be `data`, and passing other arguments without an explicit keyword will result in an error or misinterpretation.\n",
            "  FutureWarning\n"
          ],
          "name": "stderr"
        },
        {
          "output_type": "display_data",
          "data": {
            "image/png": "[encoded data removed]",
            "text/plain": [
              "<Figure size 432x288 with 1 Axes>"
            ]
          },
          "metadata": {
            "needs_background": "light"
          }
        },
        {
          "output_type": "stream",
          "text": [
            "/usr/local/lib/python3.7/dist-packages/seaborn/_decorators.py:43: FutureWarning: Pass the following variable as a keyword arg: x. From version 0.12, the only valid positional argument will be `data`, and passing other arguments without an explicit keyword will result in an error or misinterpretation.\n",
            "  FutureWarning\n"
          ],
          "name": "stderr"
        },
        {
          "output_type": "display_data",
          "data": {
            "image/png": "[encoded data removed]",
            "text/plain": [
              "<Figure size 432x288 with 1 Axes>"
            ]
          },
          "metadata": {
            "needs_background": "light"
          }
        },
        {
          "output_type": "stream",
          "text": [
            "/usr/local/lib/python3.7/dist-packages/seaborn/_decorators.py:43: FutureWarning: Pass the following variable as a keyword arg: x. From version 0.12, the only valid positional argument will be `data`, and passing other arguments without an explicit keyword will result in an error or misinterpretation.\n",
            "  FutureWarning\n"
          ],
          "name": "stderr"
        },
        {
          "output_type": "display_data",
          "data": {
            "image/png": "[encoded data removed]",
            "text/plain": [
              "<Figure size 432x288 with 1 Axes>"
            ]
          },
          "metadata": {
            "needs_background": "light"
          }
        },
        {
          "output_type": "stream",
          "text": [
            "/usr/local/lib/python3.7/dist-packages/seaborn/_decorators.py:43: FutureWarning: Pass the following variable as a keyword arg: x. From version 0.12, the only valid positional argument will be `data`, and passing other arguments without an explicit keyword will result in an error or misinterpretation.\n",
            "  FutureWarning\n"
          ],
          "name": "stderr"
        },
        {
          "output_type": "display_data",
          "data": {
            "image/png": "[encoded data removed]",
            "text/plain": [
              "<Figure size 432x288 with 1 Axes>"
            ]
          },
          "metadata": {
            "needs_background": "light"
          }
        },
        {
          "output_type": "stream",
          "text": [
            "/usr/local/lib/python3.7/dist-packages/seaborn/_decorators.py:43: FutureWarning: Pass the following variable as a keyword arg: x. From version 0.12, the only valid positional argument will be `data`, and passing other arguments without an explicit keyword will result in an error or misinterpretation.\n",
            "  FutureWarning\n"
          ],
          "name": "stderr"
        },
        {
          "output_type": "display_data",
          "data": {
            "image/png": "[encoded data removed]",
            "text/plain": [
              "<Figure size 432x288 with 1 Axes>"
            ]
          },
          "metadata": {
            "needs_background": "light"
          }
        },
        {
          "output_type": "stream",
          "text": [
            "/usr/local/lib/python3.7/dist-packages/seaborn/_decorators.py:43: FutureWarning: Pass the following variable as a keyword arg: x. From version 0.12, the only valid positional argument will be `data`, and passing other arguments without an explicit keyword will result in an error or misinterpretation.\n",
            "  FutureWarning\n"
          ],
          "name": "stderr"
        },
        {
          "output_type": "display_data",
          "data": {
            "image/png": "[encoded data removed]",
            "text/plain": [
              "<Figure size 432x288 with 1 Axes>"
            ]
          },
          "metadata": {
            "needs_background": "light"
          }
        },
        {
          "output_type": "stream",
          "text": [
            "/usr/local/lib/python3.7/dist-packages/seaborn/_decorators.py:43: FutureWarning: Pass the following variable as a keyword arg: x. From version 0.12, the only valid positional argument will be `data`, and passing other arguments without an explicit keyword will result in an error or misinterpretation.\n",
            "  FutureWarning\n"
          ],
          "name": "stderr"
        },
        {
          "output_type": "display_data",
          "data": {
            "image/png": "[encoded data removed]",
            "text/plain": [
              "<Figure size 432x288 with 1 Axes>"
            ]
          },
          "metadata": {
            "needs_background": "light"
          }
        },
        {
          "output_type": "stream",
          "text": [
            "/usr/local/lib/python3.7/dist-packages/seaborn/_decorators.py:43: FutureWarning: Pass the following variable as a keyword arg: x. From version 0.12, the only valid positional argument will be `data`, and passing other arguments without an explicit keyword will result in an error or misinterpretation.\n",
            "  FutureWarning\n"
          ],
          "name": "stderr"
        },
        {
          "output_type": "display_data",
          "data": {
            "image/png": "[encoded data removed]",
            "text/plain": [
              "<Figure size 432x288 with 1 Axes>"
            ]
          },
          "metadata": {
            "needs_background": "light"
          }
        },
        {
          "output_type": "stream",
          "text": [
            "/usr/local/lib/python3.7/dist-packages/seaborn/_decorators.py:43: FutureWarning: Pass the following variable as a keyword arg: x. From version 0.12, the only valid positional argument will be `data`, and passing other arguments without an explicit keyword will result in an error or misinterpretation.\n",
            "  FutureWarning\n"
          ],
          "name": "stderr"
        },
        {
          "output_type": "display_data",
          "data": {
            "image/png": "[encoded data removed]",
            "text/plain": [
              "<Figure size 432x288 with 1 Axes>"
            ]
          },
          "metadata": {
            "needs_background": "light"
          }
        },
        {
          "output_type": "stream",
          "text": [
            "/usr/local/lib/python3.7/dist-packages/seaborn/_decorators.py:43: FutureWarning: Pass the following variable as a keyword arg: x. From version 0.12, the only valid positional argument will be `data`, and passing other arguments without an explicit keyword will result in an error or misinterpretation.\n",
            "  FutureWarning\n"
          ],
          "name": "stderr"
        },
        {
          "output_type": "display_data",
          "data": {
            "image/png": "[encoded data removed]",
            "text/plain": [
              "<Figure size 432x288 with 1 Axes>"
            ]
          },
          "metadata": {
            "needs_background": "light"
          }
        },
        {
          "output_type": "stream",
          "text": [
            "/usr/local/lib/python3.7/dist-packages/seaborn/_decorators.py:43: FutureWarning: Pass the following variable as a keyword arg: x. From version 0.12, the only valid positional argument will be `data`, and passing other arguments without an explicit keyword will result in an error or misinterpretation.\n",
            "  FutureWarning\n"
          ],
          "name": "stderr"
        },
        {
          "output_type": "display_data",
          "data": {
            "image/png": "[encoded data removed]",
            "text/plain": [
              "<Figure size 432x288 with 1 Axes>"
            ]
          },
          "metadata": {
            "needs_background": "light"
          }
        },
        {
          "output_type": "stream",
          "text": [
            "/usr/local/lib/python3.7/dist-packages/seaborn/_decorators.py:43: FutureWarning: Pass the following variable as a keyword arg: x. From version 0.12, the only valid positional argument will be `data`, and passing other arguments without an explicit keyword will result in an error or misinterpretation.\n",
            "  FutureWarning\n"
          ],
          "name": "stderr"
        },
        {
          "output_type": "display_data",
          "data": {
            "image/png": "[encoded data removed]",
            "text/plain": [
              "<Figure size 432x288 with 1 Axes>"
            ]
          },
          "metadata": {
            "needs_background": "light"
          }
        }
      ]
    },
    {
      "cell_type": "markdown",
      "metadata": {
        "id": "FlsNDNDaXg2j"
      },
      "source": [
        "### Multivariate Analysis"
      ]
    },
    {
      "cell_type": "markdown",
      "metadata": {
        "id": "CjBkSt3oFPXv"
      },
      "source": [
        "**Hipotesis:**\n",
        "1. obesitas dengan status diabetes?\n",
        "2. gender dengan status diabates?\n",
        "3. usia dengan status diabetes?"
      ]
    },
    {
      "cell_type": "markdown",
      "metadata": {
        "id": "iGZHCOCcEXuW"
      },
      "source": [
        "Jika ingin melakukan analisis pada dua variabel kategorikal secara bersamaan, maka dapat menggunakan teknik _crosstab_. [Crosstab](http://repository.unika.ac.id/19222/4/12.30.0265%20ADITYA%20SETIAWAN%20%289.83%29..pdf%20BAB%20III.pdf) adalah suatu metode analisis berbentuk tabel yang menampilkan tabulasi silang dari data yang diamati. Tabulasi silang atau table kontingensi ini digunakan untuk mengidentifikasi dan mengetahui apakah ada korelasi atau hubungan antara satu variable dengan variabel yang lain."
      ]
    },
    {
      "cell_type": "markdown",
      "metadata": {
        "id": "6H1cPa5ZW_gM"
      },
      "source": [
        "#### Obesitas vs Diabetes\n",
        "- $H_{0}$ : Obesitas tidak berhubungan dengan diabetes (independen)\n",
        "- $H_{1}$ : Obesitas berhubungan dengan diabetes (dependen)"
      ]
    },
    {
      "cell_type": "code",
      "metadata": {
        "colab": {
          "base_uri": "https://localhost:8080/",
          "height": 142
        },
        "id": "LdV3NqFnDlJX",
        "outputId": "ffb3bb3f-ae3c-48ce-d67e-5d6c1a3a45c0"
      },
      "source": [
        "# melakukan crosstab pada kolom obesity (status obesitas) dan class (status diabetes)\n",
        "obesity_diabetes_crosstab = pd.crosstab(df2['class'], df2['obesity'])\n",
        "obesity_diabetes_crosstab"
      ],
      "execution_count": null,
      "outputs": [
        {
          "output_type": "execute_result",
          "data": {
            "text/html": [
              "<div>\n",
              "<style scoped>\n",
              "    .dataframe tbody tr th:only-of-type {\n",
              "        vertical-align: middle;\n",
              "    }\n",
              "\n",
              "    .dataframe tbody tr th {\n",
              "        vertical-align: top;\n",
              "    }\n",
              "\n",
              "    .dataframe thead th {\n",
              "        text-align: right;\n",
              "    }\n",
              "</style>\n",
              "<table border=\"1\" class=\"dataframe\">\n",
              "  <thead>\n",
              "    <tr style=\"text-align: right;\">\n",
              "      <th>obesity</th>\n",
              "      <th>0</th>\n",
              "      <th>1</th>\n",
              "    </tr>\n",
              "    <tr>\n",
              "      <th>class</th>\n",
              "      <th></th>\n",
              "      <th></th>\n",
              "    </tr>\n",
              "  </thead>\n",
              "  <tbody>\n",
              "    <tr>\n",
              "      <th>0</th>\n",
              "      <td>173</td>\n",
              "      <td>27</td>\n",
              "    </tr>\n",
              "    <tr>\n",
              "      <th>1</th>\n",
              "      <td>259</td>\n",
              "      <td>61</td>\n",
              "    </tr>\n",
              "  </tbody>\n",
              "</table>\n",
              "</div>"
            ],
            "text/plain": [
              "obesity    0   1\n",
              "class           \n",
              "0        173  27\n",
              "1        259  61"
            ]
          },
          "metadata": {},
          "execution_count": 10
        }
      ]
    },
    {
      "cell_type": "markdown",
      "metadata": {
        "id": "CAMpscN4Hq3C"
      },
      "source": [
        "[Chi Square](https://pelatihan-ui.com/uji-chi-square-dengan-spss/) merupakan metode pengujian untuk melihat hubungan antara dua buah variabel kualitatif (kategorikal). Umumnya keterkaitan antar dua variabel kualitatif secara deskriptif ditampilkan dalam bentuk tabel kontingensi (CrossTab)"
      ]
    },
    {
      "cell_type": "code",
      "metadata": {
        "colab": {
          "base_uri": "https://localhost:8080/"
        },
        "id": "-XpTz4JxG6YA",
        "outputId": "5e89eeea-da8a-4d74-b777-512a4d023fca"
      },
      "source": [
        "# melakukan chi contigency square pada hasil crosstab obesitas dan diabetes\n",
        "\n",
        "chi2_contingency(obesity_diabetes_crosstab)"
      ],
      "execution_count": null,
      "outputs": [
        {
          "output_type": "execute_result",
          "data": {
            "text/plain": [
              "(2.3274739583333344,\n",
              " 0.12710799319896815,\n",
              " 1,\n",
              " array([[166.15384615,  33.84615385],\n",
              "        [265.84615385,  54.15384615]]))"
            ]
          },
          "metadata": {},
          "execution_count": 11
        }
      ]
    },
    {
      "cell_type": "markdown",
      "metadata": {
        "id": "DrTfcn1AIRcq"
      },
      "source": [
        "Hasil diatas menunjukkan tuple dengan empat angka yang berbeda :\n",
        "1. statistik uji $χ^2_{hitung}$: 2.3274739583333344\n",
        "2. nilai probabilitas/signifikan (p-value): 0.12710799319896815\n",
        "3. derajat kebebasan (degree of freedom($df$)) : 1\n",
        "4. nilai harapan (expected value) jika semuanya independen\n",
        "\n",
        "> Tolak $H_{0}$ jika $χ^2_{hitung}≥χ^2_{tabel}$\n",
        "\n",
        "Penentuan nilai $χ^2_{tabel}$ didasarkan pada besar nilai α dan derajat bebasnya. Nilai alpha biasanya 0,05. Nilai alpha adalah kesalahan maksimal yang ditentukan. \n",
        "\n",
        "> Dari tabel $χ^2_{(df;α)}$ → $χ^2_{(1;0.05)}$ diperoleh = 0,05\n",
        "\n",
        "Lalu,\n",
        "\n",
        "> $χ^2_{hitung}≥χ^2_{tabel} = 2,32 ≥ 0,05$\n",
        "\n",
        "Maka,\n",
        "> H0 ditolak dan H1 diterima\n",
        "\n",
        "Kita tidak bisa mengasumsikan bahwa tidak ada hubungan antara obesitas atau tidaknya seseorang dengan diabetes atau tidaknya seseorang.\n",
        "\n",
        "Hasil ini juga dapat memberikan gambaran kepada kita bahwa variabel `obesity` tidak dapat digunakan dalam analisis regresi. Dengan kata lain, hanya variabel dengan koefisien regresi yang bermakna secara statistik yang dipakai dalam regresi. Namun, kita perlu hati-hati dengan hal ini [karena](https://statistikceria.blogspot.com/2016/12/p-value-dan-beberapa-hal-yang-terkait.html) :\n",
        "1. Ketidakbermaknaan secara statistik suatu koefisien refgresi dari suatu variabel bisa saja terjadi karena ukuran sampel yang digunakan dalam penelitian adalah kecil. Mungkin saja dengan ukuran sampel yang lebih besar, koefisien regresi dari variabel tersebut akan menjadi signifikan secara statistik.\n",
        "2. Tidak signifikannya secara statistik sebuah variabel bebas bisa juga terjadi karena adanya fenomena yang disebut dengan istilah _multikolinieritas_ yaitu adanya korelasi antara variabel tersebut dengan variabel independen lainnya. Dengan adanya multikolnieritas tersebut, maka sebagian ‘efek’ dari variabel bebas terhadap Y sudah terjelaskan/terambil oleh variabel lain yang berkorelasi dengan variabel tersebut, sehingga efek variabel tersebut (yang diwakili oleh koefisien regresinya) menjadi tidak signifikan secara statistik."
      ]
    },
    {
      "cell_type": "markdown",
      "metadata": {
        "id": "1GqJl7n1XHg1"
      },
      "source": [
        "#### Jenis kelamin vs Diabetes\n",
        "- $H_{0}$ : Jenis kelamin tidak berhubungan dengan diabetes\n",
        "- $H_{1}$ : Jenis kelamin berhubungan dengan diabetes"
      ]
    },
    {
      "cell_type": "code",
      "metadata": {
        "colab": {
          "base_uri": "https://localhost:8080/",
          "height": 142
        },
        "id": "wKR-t8tLMHdo",
        "outputId": "795d2460-66ee-462c-d0be-b20f2e02980e"
      },
      "source": [
        "ismale_diabetes_crosstab = pd.crosstab(df2['class'], df2['ismale'])\n",
        "ismale_diabetes_crosstab"
      ],
      "execution_count": null,
      "outputs": [
        {
          "output_type": "execute_result",
          "data": {
            "text/html": [
              "<div>\n",
              "<style scoped>\n",
              "    .dataframe tbody tr th:only-of-type {\n",
              "        vertical-align: middle;\n",
              "    }\n",
              "\n",
              "    .dataframe tbody tr th {\n",
              "        vertical-align: top;\n",
              "    }\n",
              "\n",
              "    .dataframe thead th {\n",
              "        text-align: right;\n",
              "    }\n",
              "</style>\n",
              "<table border=\"1\" class=\"dataframe\">\n",
              "  <thead>\n",
              "    <tr style=\"text-align: right;\">\n",
              "      <th>ismale</th>\n",
              "      <th>0</th>\n",
              "      <th>1</th>\n",
              "    </tr>\n",
              "    <tr>\n",
              "      <th>class</th>\n",
              "      <th></th>\n",
              "      <th></th>\n",
              "    </tr>\n",
              "  </thead>\n",
              "  <tbody>\n",
              "    <tr>\n",
              "      <th>0</th>\n",
              "      <td>19</td>\n",
              "      <td>181</td>\n",
              "    </tr>\n",
              "    <tr>\n",
              "      <th>1</th>\n",
              "      <td>173</td>\n",
              "      <td>147</td>\n",
              "    </tr>\n",
              "  </tbody>\n",
              "</table>\n",
              "</div>"
            ],
            "text/plain": [
              "ismale    0    1\n",
              "class           \n",
              "0        19  181\n",
              "1       173  147"
            ]
          },
          "metadata": {},
          "execution_count": 13
        }
      ]
    },
    {
      "cell_type": "code",
      "metadata": {
        "colab": {
          "base_uri": "https://localhost:8080/"
        },
        "id": "6MPIVv7TMmss",
        "outputId": "ada9ade5-902b-4fa0-ec48-5689d8c2c0a3"
      },
      "source": [
        "chi2_contingency(ismale_diabetes_crosstab)"
      ],
      "execution_count": null,
      "outputs": [
        {
          "output_type": "execute_result",
          "data": {
            "text/plain": [
              "(103.03685927972558,\n",
              " 3.289703730553317e-24,\n",
              " 1,\n",
              " array([[ 73.84615385, 126.15384615],\n",
              "        [118.15384615, 201.84615385]]))"
            ]
          },
          "metadata": {},
          "execution_count": 14
        }
      ]
    },
    {
      "cell_type": "markdown",
      "metadata": {
        "id": "z5-LiQHKYAsZ"
      },
      "source": [
        "### Uji Statistik Perbedaan"
      ]
    },
    {
      "cell_type": "markdown",
      "metadata": {
        "id": "TIAzNcH1XuTL"
      },
      "source": [
        "- $H_{0}$ : Tidak ada perbedaan usia penderita diabetes dengan yg tidak diabetes\n",
        "- $H_{1}$ : Ada perbedaan antara usia penderita diabetes dengan yg tidak diabetes\n",
        "\n",
        "Kolom `age` berisi nilai integer yang terdiri dari bilangan bulat diskrit. Sementara kolom `class` berisi nilai kategorikal. Untuk menjelaskan relasi keduanya, kita dapat menggunakan box plot :\n",
        "- kolom `class` sebagai sumbu **x**, dan\n",
        "- kolom `age` sebagai sumbu **y**."
      ]
    },
    {
      "cell_type": "code",
      "metadata": {
        "colab": {
          "base_uri": "https://localhost:8080/",
          "height": 350
        },
        "id": "DPZI_-WBXmbA",
        "outputId": "5f22a6de-dbf3-403b-b4f6-e594cb2f0337"
      },
      "source": [
        "sns.boxplot(df2['class'], df2['age'])"
      ],
      "execution_count": null,
      "outputs": [
        {
          "output_type": "stream",
          "text": [
            "/usr/local/lib/python3.7/dist-packages/seaborn/_decorators.py:43: FutureWarning: Pass the following variables as keyword args: x, y. From version 0.12, the only valid positional argument will be `data`, and passing other arguments without an explicit keyword will result in an error or misinterpretation.\n",
            "  FutureWarning\n"
          ],
          "name": "stderr"
        },
        {
          "output_type": "execute_result",
          "data": {
            "text/plain": [
              "<matplotlib.axes._subplots.AxesSubplot at 0x7f4b6093b110>"
            ]
          },
          "metadata": {},
          "execution_count": 15
        },
        {
          "output_type": "display_data",
          "data": {
            "image/png": "[encoded data removed]",
            "text/plain": [
              "<Figure size 432x288 with 1 Axes>"
            ]
          },
          "metadata": {
            "needs_background": "light"
          }
        }
      ]
    },
    {
      "cell_type": "code",
      "metadata": {
        "colab": {
          "base_uri": "https://localhost:8080/"
        },
        "id": "OnOzhNVpMLLy",
        "outputId": "f7b3a3de-eda0-499f-fd2c-f638eefa019a"
      },
      "source": [
        "# ambil dataframe yang hanya memiliki class = 0 atau tidak menderita diabetes dan simpan dalam dataframe no_diabetes\n",
        "no_diabetes = df2[df2['class'] == 0]\n",
        "\n",
        "# tampilkan media dari usia/age dari dataframe no_diabetes\n",
        "no_diabetes['age'].median()"
      ],
      "execution_count": null,
      "outputs": [
        {
          "output_type": "execute_result",
          "data": {
            "text/plain": [
              "45.0"
            ]
          },
          "metadata": {},
          "execution_count": 16
        }
      ]
    },
    {
      "cell_type": "code",
      "metadata": {
        "colab": {
          "base_uri": "https://localhost:8080/"
        },
        "id": "JAu6qv-IOPFd",
        "outputId": "eeb82fc1-3d85-40df-9dea-685a1a955ac1"
      },
      "source": [
        "# ambil dataframe yang hanya memiliki class = 1 atau menderita diabetes dan simpan dalam dataframe diabetes\n",
        "diabetes = df2[df2['class'] == 1]\n",
        "\n",
        "# tampilkan media dari usia/age dari dataframe diabetes\n",
        "diabetes['age'].median()"
      ],
      "execution_count": null,
      "outputs": [
        {
          "output_type": "execute_result",
          "data": {
            "text/plain": [
              "48.0"
            ]
          },
          "metadata": {},
          "execution_count": 18
        }
      ]
    },
    {
      "cell_type": "markdown",
      "metadata": {
        "id": "vdMFsg1gOooc"
      },
      "source": [
        "Seperti sebelumnya, kita perlu menentukan metode uji statistik yang tepat untuk kedua data ini. Untuk membantu menentukan uji yang tepat, kita perlu memeriksa apakah datanya terdistribusi dengan normal atau tidak.\n",
        "\n",
        "Kita dapat menggunakan `qqplot` pada kolom `age`"
      ]
    },
    {
      "cell_type": "code",
      "metadata": {
        "colab": {
          "base_uri": "https://localhost:8080/",
          "height": 279
        },
        "id": "DrxCkfkSO_P9",
        "outputId": "8003e56b-c40b-4698-867d-f83f9256ec7c"
      },
      "source": [
        "qqplot(df2['age'], fit=True, line=\"s\")\n",
        "plt.show()"
      ],
      "execution_count": null,
      "outputs": [
        {
          "output_type": "display_data",
          "data": {
            "image/png": "[encoded data removed]",
            "text/plain": [
              "<Figure size 432x288 with 1 Axes>"
            ]
          },
          "metadata": {
            "needs_background": "light"
          }
        }
      ]
    },
    {
      "cell_type": "markdown",
      "metadata": {
        "id": "Qe8gdkogPa0q"
      },
      "source": [
        "Sebuah data dikatakan normal jika mayoritas datanya berada pada line atau garis. Dengan begitu kita dapat melakukan uji statistik. Uji yang dilakukan adalah _Z-Test of Difference_. Z Test adalah uji statistik yang digunakan untuk menentukan apakah rata-rata dari dua populasi itu berbeda ketika varians diketahui dan ukuran sampel besar."
      ]
    },
    {
      "cell_type": "code",
      "metadata": {
        "colab": {
          "base_uri": "https://localhost:8080/"
        },
        "id": "KNMJM0cDRUOs",
        "outputId": "a68f418c-06d6-4b4d-ff98-6b487e3d8ad3"
      },
      "source": [
        "ztest(diabetes['age'], no_diabetes['age'])"
      ],
      "execution_count": null,
      "outputs": [
        {
          "output_type": "execute_result",
          "data": {
            "text/plain": [
              "(2.4882300316303065, 0.012838066562901769)"
            ]
          },
          "metadata": {},
          "execution_count": 20
        }
      ]
    },
    {
      "cell_type": "markdown",
      "metadata": {
        "id": "_NGHk_XsSOZy"
      },
      "source": [
        "Dari hasil Z Test dapat dilihat bahwa p-value dari no_diabetes lebih kecil dari 0.05. Artinya kita menolak $H_{0}$ dan menerima $H_{1}$"
      ]
    },
    {
      "cell_type": "markdown",
      "metadata": {
        "id": "lLO2CXvZTOph"
      },
      "source": [
        "### Korelasi antar kolom"
      ]
    },
    {
      "cell_type": "code",
      "metadata": {
        "colab": {
          "base_uri": "https://localhost:8080/",
          "height": 610
        },
        "id": "ZEz8wGbTSMbt",
        "outputId": "0c3c6605-5020-4125-af68-92ffbb8025fb"
      },
      "source": [
        "korelasi = df2.corr()\n",
        "korelasi"
      ],
      "execution_count": null,
      "outputs": [
        {
          "output_type": "execute_result",
          "data": {
            "text/html": [
              "<div>\n",
              "<style scoped>\n",
              "    .dataframe tbody tr th:only-of-type {\n",
              "        vertical-align: middle;\n",
              "    }\n",
              "\n",
              "    .dataframe tbody tr th {\n",
              "        vertical-align: top;\n",
              "    }\n",
              "\n",
              "    .dataframe thead th {\n",
              "        text-align: right;\n",
              "    }\n",
              "</style>\n",
              "<table border=\"1\" class=\"dataframe\">\n",
              "  <thead>\n",
              "    <tr style=\"text-align: right;\">\n",
              "      <th></th>\n",
              "      <th>age</th>\n",
              "      <th>ismale</th>\n",
              "      <th>polyuria</th>\n",
              "      <th>polydipsia</th>\n",
              "      <th>sudden weight loss</th>\n",
              "      <th>weakness</th>\n",
              "      <th>polyphagia</th>\n",
              "      <th>genital thrush</th>\n",
              "      <th>visual blurring</th>\n",
              "      <th>itching</th>\n",
              "      <th>irritability</th>\n",
              "      <th>delayed healing</th>\n",
              "      <th>partial paresis</th>\n",
              "      <th>muscle stiffness</th>\n",
              "      <th>alopecia</th>\n",
              "      <th>obesity</th>\n",
              "      <th>class</th>\n",
              "    </tr>\n",
              "  </thead>\n",
              "  <tbody>\n",
              "    <tr>\n",
              "      <th>age</th>\n",
              "      <td>1.000000</td>\n",
              "      <td>0.062872</td>\n",
              "      <td>0.199781</td>\n",
              "      <td>0.137382</td>\n",
              "      <td>0.064808</td>\n",
              "      <td>0.224596</td>\n",
              "      <td>0.315577</td>\n",
              "      <td>0.096519</td>\n",
              "      <td>0.402729</td>\n",
              "      <td>0.296559</td>\n",
              "      <td>0.201625</td>\n",
              "      <td>0.257501</td>\n",
              "      <td>0.232742</td>\n",
              "      <td>0.307703</td>\n",
              "      <td>0.321691</td>\n",
              "      <td>0.140458</td>\n",
              "      <td>0.108679</td>\n",
              "    </tr>\n",
              "    <tr>\n",
              "      <th>ismale</th>\n",
              "      <td>0.062872</td>\n",
              "      <td>1.000000</td>\n",
              "      <td>-0.268894</td>\n",
              "      <td>-0.312262</td>\n",
              "      <td>-0.281840</td>\n",
              "      <td>-0.124490</td>\n",
              "      <td>-0.219968</td>\n",
              "      <td>0.208961</td>\n",
              "      <td>-0.208092</td>\n",
              "      <td>-0.052496</td>\n",
              "      <td>-0.013735</td>\n",
              "      <td>-0.101978</td>\n",
              "      <td>-0.332288</td>\n",
              "      <td>-0.090542</td>\n",
              "      <td>0.327871</td>\n",
              "      <td>-0.005396</td>\n",
              "      <td>-0.449233</td>\n",
              "    </tr>\n",
              "    <tr>\n",
              "      <th>polyuria</th>\n",
              "      <td>0.199781</td>\n",
              "      <td>-0.268894</td>\n",
              "      <td>1.000000</td>\n",
              "      <td>0.598609</td>\n",
              "      <td>0.447207</td>\n",
              "      <td>0.263000</td>\n",
              "      <td>0.373873</td>\n",
              "      <td>0.087273</td>\n",
              "      <td>0.235095</td>\n",
              "      <td>0.088289</td>\n",
              "      <td>0.237740</td>\n",
              "      <td>0.149873</td>\n",
              "      <td>0.441664</td>\n",
              "      <td>0.152938</td>\n",
              "      <td>-0.144192</td>\n",
              "      <td>0.126567</td>\n",
              "      <td>0.665922</td>\n",
              "    </tr>\n",
              "    <tr>\n",
              "      <th>polydipsia</th>\n",
              "      <td>0.137382</td>\n",
              "      <td>-0.312262</td>\n",
              "      <td>0.598609</td>\n",
              "      <td>1.000000</td>\n",
              "      <td>0.405965</td>\n",
              "      <td>0.332453</td>\n",
              "      <td>0.316839</td>\n",
              "      <td>0.028081</td>\n",
              "      <td>0.331250</td>\n",
              "      <td>0.128716</td>\n",
              "      <td>0.203446</td>\n",
              "      <td>0.115691</td>\n",
              "      <td>0.442249</td>\n",
              "      <td>0.180723</td>\n",
              "      <td>-0.310964</td>\n",
              "      <td>0.098691</td>\n",
              "      <td>0.648734</td>\n",
              "    </tr>\n",
              "    <tr>\n",
              "      <th>sudden weight loss</th>\n",
              "      <td>0.064808</td>\n",
              "      <td>-0.281840</td>\n",
              "      <td>0.447207</td>\n",
              "      <td>0.405965</td>\n",
              "      <td>1.000000</td>\n",
              "      <td>0.282884</td>\n",
              "      <td>0.243511</td>\n",
              "      <td>0.089858</td>\n",
              "      <td>0.068754</td>\n",
              "      <td>-0.004516</td>\n",
              "      <td>0.140340</td>\n",
              "      <td>0.088140</td>\n",
              "      <td>0.264014</td>\n",
              "      <td>0.109756</td>\n",
              "      <td>-0.202727</td>\n",
              "      <td>0.169294</td>\n",
              "      <td>0.436568</td>\n",
              "    </tr>\n",
              "    <tr>\n",
              "      <th>weakness</th>\n",
              "      <td>0.224596</td>\n",
              "      <td>-0.124490</td>\n",
              "      <td>0.263000</td>\n",
              "      <td>0.332453</td>\n",
              "      <td>0.282884</td>\n",
              "      <td>1.000000</td>\n",
              "      <td>0.180266</td>\n",
              "      <td>0.027780</td>\n",
              "      <td>0.301043</td>\n",
              "      <td>0.309440</td>\n",
              "      <td>0.146698</td>\n",
              "      <td>0.335507</td>\n",
              "      <td>0.272982</td>\n",
              "      <td>0.263164</td>\n",
              "      <td>0.090490</td>\n",
              "      <td>0.045665</td>\n",
              "      <td>0.243275</td>\n",
              "    </tr>\n",
              "    <tr>\n",
              "      <th>polyphagia</th>\n",
              "      <td>0.315577</td>\n",
              "      <td>-0.219968</td>\n",
              "      <td>0.373873</td>\n",
              "      <td>0.316839</td>\n",
              "      <td>0.243511</td>\n",
              "      <td>0.180266</td>\n",
              "      <td>1.000000</td>\n",
              "      <td>-0.063712</td>\n",
              "      <td>0.293545</td>\n",
              "      <td>0.144390</td>\n",
              "      <td>0.239466</td>\n",
              "      <td>0.263980</td>\n",
              "      <td>0.373569</td>\n",
              "      <td>0.320031</td>\n",
              "      <td>-0.053498</td>\n",
              "      <td>0.029785</td>\n",
              "      <td>0.342504</td>\n",
              "    </tr>\n",
              "    <tr>\n",
              "      <th>genital thrush</th>\n",
              "      <td>0.096519</td>\n",
              "      <td>0.208961</td>\n",
              "      <td>0.087273</td>\n",
              "      <td>0.028081</td>\n",
              "      <td>0.089858</td>\n",
              "      <td>0.027780</td>\n",
              "      <td>-0.063712</td>\n",
              "      <td>1.000000</td>\n",
              "      <td>-0.148408</td>\n",
              "      <td>0.125336</td>\n",
              "      <td>0.160551</td>\n",
              "      <td>0.136111</td>\n",
              "      <td>-0.195612</td>\n",
              "      <td>-0.100188</td>\n",
              "      <td>0.204847</td>\n",
              "      <td>0.053828</td>\n",
              "      <td>0.110288</td>\n",
              "    </tr>\n",
              "    <tr>\n",
              "      <th>visual blurring</th>\n",
              "      <td>0.402729</td>\n",
              "      <td>-0.208092</td>\n",
              "      <td>0.235095</td>\n",
              "      <td>0.331250</td>\n",
              "      <td>0.068754</td>\n",
              "      <td>0.301043</td>\n",
              "      <td>0.293545</td>\n",
              "      <td>-0.148408</td>\n",
              "      <td>1.000000</td>\n",
              "      <td>0.291191</td>\n",
              "      <td>0.077095</td>\n",
              "      <td>0.177767</td>\n",
              "      <td>0.364156</td>\n",
              "      <td>0.412369</td>\n",
              "      <td>0.014604</td>\n",
              "      <td>0.109005</td>\n",
              "      <td>0.251300</td>\n",
              "    </tr>\n",
              "    <tr>\n",
              "      <th>itching</th>\n",
              "      <td>0.296559</td>\n",
              "      <td>-0.052496</td>\n",
              "      <td>0.088289</td>\n",
              "      <td>0.128716</td>\n",
              "      <td>-0.004516</td>\n",
              "      <td>0.309440</td>\n",
              "      <td>0.144390</td>\n",
              "      <td>0.125336</td>\n",
              "      <td>0.291191</td>\n",
              "      <td>1.000000</td>\n",
              "      <td>0.114006</td>\n",
              "      <td>0.453316</td>\n",
              "      <td>0.116669</td>\n",
              "      <td>0.215575</td>\n",
              "      <td>0.266506</td>\n",
              "      <td>0.001894</td>\n",
              "      <td>-0.013384</td>\n",
              "    </tr>\n",
              "    <tr>\n",
              "      <th>irritability</th>\n",
              "      <td>0.201625</td>\n",
              "      <td>-0.013735</td>\n",
              "      <td>0.237740</td>\n",
              "      <td>0.203446</td>\n",
              "      <td>0.140340</td>\n",
              "      <td>0.146698</td>\n",
              "      <td>0.239466</td>\n",
              "      <td>0.160551</td>\n",
              "      <td>0.077095</td>\n",
              "      <td>0.114006</td>\n",
              "      <td>1.000000</td>\n",
              "      <td>0.126877</td>\n",
              "      <td>0.151571</td>\n",
              "      <td>0.201637</td>\n",
              "      <td>0.043708</td>\n",
              "      <td>0.127801</td>\n",
              "      <td>0.299467</td>\n",
              "    </tr>\n",
              "    <tr>\n",
              "      <th>delayed healing</th>\n",
              "      <td>0.257501</td>\n",
              "      <td>-0.101978</td>\n",
              "      <td>0.149873</td>\n",
              "      <td>0.115691</td>\n",
              "      <td>0.088140</td>\n",
              "      <td>0.335507</td>\n",
              "      <td>0.263980</td>\n",
              "      <td>0.136111</td>\n",
              "      <td>0.177767</td>\n",
              "      <td>0.453316</td>\n",
              "      <td>0.126877</td>\n",
              "      <td>1.000000</td>\n",
              "      <td>0.187382</td>\n",
              "      <td>0.250078</td>\n",
              "      <td>0.290179</td>\n",
              "      <td>-0.066339</td>\n",
              "      <td>0.046980</td>\n",
              "    </tr>\n",
              "    <tr>\n",
              "      <th>partial paresis</th>\n",
              "      <td>0.232742</td>\n",
              "      <td>-0.332288</td>\n",
              "      <td>0.441664</td>\n",
              "      <td>0.442249</td>\n",
              "      <td>0.264014</td>\n",
              "      <td>0.272982</td>\n",
              "      <td>0.373569</td>\n",
              "      <td>-0.195612</td>\n",
              "      <td>0.364156</td>\n",
              "      <td>0.116669</td>\n",
              "      <td>0.151571</td>\n",
              "      <td>0.187382</td>\n",
              "      <td>1.000000</td>\n",
              "      <td>0.232634</td>\n",
              "      <td>-0.221576</td>\n",
              "      <td>-0.009401</td>\n",
              "      <td>0.432288</td>\n",
              "    </tr>\n",
              "    <tr>\n",
              "      <th>muscle stiffness</th>\n",
              "      <td>0.307703</td>\n",
              "      <td>-0.090542</td>\n",
              "      <td>0.152938</td>\n",
              "      <td>0.180723</td>\n",
              "      <td>0.109756</td>\n",
              "      <td>0.263164</td>\n",
              "      <td>0.320031</td>\n",
              "      <td>-0.100188</td>\n",
              "      <td>0.412369</td>\n",
              "      <td>0.215575</td>\n",
              "      <td>0.201637</td>\n",
              "      <td>0.250078</td>\n",
              "      <td>0.232634</td>\n",
              "      <td>1.000000</td>\n",
              "      <td>0.040758</td>\n",
              "      <td>0.158910</td>\n",
              "      <td>0.122474</td>\n",
              "    </tr>\n",
              "    <tr>\n",
              "      <th>alopecia</th>\n",
              "      <td>0.321691</td>\n",
              "      <td>0.327871</td>\n",
              "      <td>-0.144192</td>\n",
              "      <td>-0.310964</td>\n",
              "      <td>-0.202727</td>\n",
              "      <td>0.090490</td>\n",
              "      <td>-0.053498</td>\n",
              "      <td>0.204847</td>\n",
              "      <td>0.014604</td>\n",
              "      <td>0.266506</td>\n",
              "      <td>0.043708</td>\n",
              "      <td>0.290179</td>\n",
              "      <td>-0.221576</td>\n",
              "      <td>0.040758</td>\n",
              "      <td>1.000000</td>\n",
              "      <td>0.029229</td>\n",
              "      <td>-0.267512</td>\n",
              "    </tr>\n",
              "    <tr>\n",
              "      <th>obesity</th>\n",
              "      <td>0.140458</td>\n",
              "      <td>-0.005396</td>\n",
              "      <td>0.126567</td>\n",
              "      <td>0.098691</td>\n",
              "      <td>0.169294</td>\n",
              "      <td>0.045665</td>\n",
              "      <td>0.029785</td>\n",
              "      <td>0.053828</td>\n",
              "      <td>0.109005</td>\n",
              "      <td>0.001894</td>\n",
              "      <td>0.127801</td>\n",
              "      <td>-0.066339</td>\n",
              "      <td>-0.009401</td>\n",
              "      <td>0.158910</td>\n",
              "      <td>0.029229</td>\n",
              "      <td>1.000000</td>\n",
              "      <td>0.072173</td>\n",
              "    </tr>\n",
              "    <tr>\n",
              "      <th>class</th>\n",
              "      <td>0.108679</td>\n",
              "      <td>-0.449233</td>\n",
              "      <td>0.665922</td>\n",
              "      <td>0.648734</td>\n",
              "      <td>0.436568</td>\n",
              "      <td>0.243275</td>\n",
              "      <td>0.342504</td>\n",
              "      <td>0.110288</td>\n",
              "      <td>0.251300</td>\n",
              "      <td>-0.013384</td>\n",
              "      <td>0.299467</td>\n",
              "      <td>0.046980</td>\n",
              "      <td>0.432288</td>\n",
              "      <td>0.122474</td>\n",
              "      <td>-0.267512</td>\n",
              "      <td>0.072173</td>\n",
              "      <td>1.000000</td>\n",
              "    </tr>\n",
              "  </tbody>\n",
              "</table>\n",
              "</div>"
            ],
            "text/plain": [
              "                         age    ismale  polyuria  ...  alopecia   obesity     class\n",
              "age                 1.000000  0.062872  0.199781  ...  0.321691  0.140458  0.108679\n",
              "ismale              0.062872  1.000000 -0.268894  ...  0.327871 -0.005396 -0.449233\n",
              "polyuria            0.199781 -0.268894  1.000000  ... -0.144192  0.126567  0.665922\n",
              "polydipsia          0.137382 -0.312262  0.598609  ... -0.310964  0.098691  0.648734\n",
              "sudden weight loss  0.064808 -0.281840  0.447207  ... -0.202727  0.169294  0.436568\n",
              "weakness            0.224596 -0.124490  0.263000  ...  0.090490  0.045665  0.243275\n",
              "polyphagia          0.315577 -0.219968  0.373873  ... -0.053498  0.029785  0.342504\n",
              "genital thrush      0.096519  0.208961  0.087273  ...  0.204847  0.053828  0.110288\n",
              "visual blurring     0.402729 -0.208092  0.235095  ...  0.014604  0.109005  0.251300\n",
              "itching             0.296559 -0.052496  0.088289  ...  0.266506  0.001894 -0.013384\n",
              "irritability        0.201625 -0.013735  0.237740  ...  0.043708  0.127801  0.299467\n",
              "delayed healing     0.257501 -0.101978  0.149873  ...  0.290179 -0.066339  0.046980\n",
              "partial paresis     0.232742 -0.332288  0.441664  ... -0.221576 -0.009401  0.432288\n",
              "muscle stiffness    0.307703 -0.090542  0.152938  ...  0.040758  0.158910  0.122474\n",
              "alopecia            0.321691  0.327871 -0.144192  ...  1.000000  0.029229 -0.267512\n",
              "obesity             0.140458 -0.005396  0.126567  ...  0.029229  1.000000  0.072173\n",
              "class               0.108679 -0.449233  0.665922  ... -0.267512  0.072173  1.000000\n",
              "\n",
              "[17 rows x 17 columns]"
            ]
          },
          "metadata": {},
          "execution_count": 22
        }
      ]
    },
    {
      "cell_type": "code",
      "metadata": {
        "colab": {
          "base_uri": "https://localhost:8080/",
          "height": 373
        },
        "id": "UteVFVvZTe5f",
        "outputId": "08c14824-7765-4b3b-912a-c24b40252b75"
      },
      "source": [
        "sns.heatmap(korelasi)"
      ],
      "execution_count": null,
      "outputs": [
        {
          "output_type": "execute_result",
          "data": {
            "text/plain": [
              "<matplotlib.axes._subplots.AxesSubplot at 0x7f4b5bdf2950>"
            ]
          },
          "metadata": {},
          "execution_count": 23
        },
        {
          "output_type": "display_data",
          "data": {
            "image/png": "[encoded data removed]",
            "text/plain": [
              "<Figure size 432x288 with 2 Axes>"
            ]
          },
          "metadata": {
            "needs_background": "light"
          }
        }
      ]
    },
    {
      "cell_type": "markdown",
      "metadata": {
        "id": "Q8LtcqJkUUX9"
      },
      "source": [
        "Dari plot diatas dapat dilihat bahwa semakin terang maka menunjukkan korelasi positif yang semakin tinggi dan sebaliknya jika semakin gelap menunjukkan korelasi negatif yang semakin tinggi.\n",
        "\n",
        "Contoh korelasi positif yang tinggi:\n",
        "- `polyuria` dan `polydipsia` memiliki korelasi yang cukup tinggi terhadap `class`. Artinya penderita diabetes mayoritas mengalami polyuria dan polydipsia juga.\n",
        "\n",
        "Contoh korelasi negatif yang tinggi:\n",
        "- `polyuria`, `polydipsia`, `sudden weighted loss`, `polyphagia`, `visual blurring`, `partial paresis`, dan `class` memiliki korelasi yang cukup tinggi terhadap `ismale`. Artinya perempuan (`ismale == 0`) mayoritas mengalami polyuria, polydipsia, kehilangan berat badan mendadak, polyphagia, gangguan penglihatan, lumpuh sebagain badan, dan diabetes."
      ]
    },
    {
      "cell_type": "markdown",
      "metadata": {
        "id": "ovw0Uz3u4Hht"
      },
      "source": [
        "## **Melakukan Training pada Model Machine Learning** "
      ]
    },
    {
      "cell_type": "markdown",
      "metadata": {
        "id": "4sCD3MctXueh"
      },
      "source": [
        "Pada tahap ini kita akan melatih model machine learning untuk memprediksi apakah seseorang memiliki diabetes atau tidak berdasarkan gejala yang mereka tunjukkan. Karenanya, model yang dikembangkan nantinya adalah model klasifikasi."
      ]
    },
    {
      "cell_type": "code",
      "metadata": {
        "id": "r24xxsVGYGZ9"
      },
      "source": [
        "# import libraries\n",
        "\n",
        "from sklearn.model_selection import train_test_split #membagi data ke dalam training test\n",
        "from sklearn.dummy import DummyClassifier # untuk membentuk baseline\n",
        "from sklearn.linear_model import LogisticRegression\n",
        "from sklearn.tree import DecisionTreeClassifier\n",
        "from sklearn.ensemble import RandomForestClassifier\n",
        "\n",
        "from sklearn.metrics import confusion_matrix, classification_report # untuk penilaian model"
      ],
      "execution_count": null,
      "outputs": []
    },
    {
      "cell_type": "code",
      "metadata": {
        "id": "86Fc3PBUaFS8"
      },
      "source": [
        "# menyiapkan variabel independen dan dependen\n",
        "\n",
        "df3 = pd.read_csv('diabetes_data_clean.csv')\n",
        "\n",
        "X = df3.drop('class', axis=1) #independen\n",
        "y = df3['class'] # dependen"
      ],
      "execution_count": null,
      "outputs": []
    },
    {
      "cell_type": "code",
      "metadata": {
        "colab": {
          "base_uri": "https://localhost:8080/"
        },
        "id": "6cwpUd4Dan7g",
        "outputId": "b6942e84-9fd8-4407-84b3-15bfdc582f30"
      },
      "source": [
        "# periksa hasil y\n",
        "y"
      ],
      "execution_count": null,
      "outputs": [
        {
          "output_type": "execute_result",
          "data": {
            "text/plain": [
              "0      1\n",
              "1      1\n",
              "2      1\n",
              "3      1\n",
              "4      1\n",
              "      ..\n",
              "515    1\n",
              "516    1\n",
              "517    1\n",
              "518    0\n",
              "519    0\n",
              "Name: class, Length: 520, dtype: int64"
            ]
          },
          "metadata": {},
          "execution_count": 6
        }
      ]
    },
    {
      "cell_type": "markdown",
      "metadata": {
        "id": "PFygqVxUdEs0"
      },
      "source": [
        "Pembagian data training dengan test adalah 80:20.\n",
        "- 80% data independen dan dependen akan digunakan sebagai `X_train` dan `y_train`\n",
        "- 20% sisanya akan digunakan sebagai `X_test` dan `y_test`"
      ]
    },
    {
      "cell_type": "code",
      "metadata": {
        "id": "OPsi8x7Wawsm"
      },
      "source": [
        "# split data menjadi training set dan test set\n",
        "X_train, X_test, y_train, y_test = train_test_split(X, y, test_size= 0.2, stratify = y)"
      ],
      "execution_count": null,
      "outputs": []
    },
    {
      "cell_type": "markdown",
      "metadata": {
        "id": "CZfmyQmhhG3D"
      },
      "source": [
        "### Model dengan `DummyClassifier`"
      ]
    },
    {
      "cell_type": "code",
      "metadata": {
        "colab": {
          "base_uri": "https://localhost:8080/"
        },
        "id": "sfZeXi3zbf3-",
        "outputId": "6391ff61-eaa0-4dec-d4ca-48e1a4a3040f"
      },
      "source": [
        "# mulai training pada model\n",
        "# pertama, gunakan DummyClassifier sebagai baseline untuk menebak secara acak\n",
        "\n",
        "dummy = DummyClassifier()\n",
        "dummy.fit(X_train, y_train) # melatih model dengan data X_train dan y_train\n",
        "dummy_pred = dummy.predict(X_test) # menguji coba model menggunakan data X_test"
      ],
      "execution_count": null,
      "outputs": [
        {
          "output_type": "stream",
          "name": "stderr",
          "text": [
            "/usr/local/lib/python3.7/dist-packages/sklearn/dummy.py:132: FutureWarning: The default value of strategy will change from stratified to prior in 0.24.\n",
            "  \"stratified to prior in 0.24.\", FutureWarning)\n"
          ]
        }
      ]
    },
    {
      "cell_type": "code",
      "metadata": {
        "colab": {
          "base_uri": "https://localhost:8080/"
        },
        "id": "AzCHXrVLeCLT",
        "outputId": "a005c3b7-e3c9-4d27-dc6e-7c609592d912"
      },
      "source": [
        "# lakukan penilaian pada model dummy sebelumnya menggunakan confusion matrix\n",
        "\n",
        "confusion_matrix(y_test, dummy_pred) #lakukan confusion matrix pada hasil prediksi dummy_pred dengan kondisi sebenarnya yang ada pada data y_test"
      ],
      "execution_count": null,
      "outputs": [
        {
          "output_type": "execute_result",
          "data": {
            "text/plain": [
              "array([[15, 25],\n",
              "       [25, 39]])"
            ]
          },
          "metadata": {},
          "execution_count": 9
        }
      ]
    },
    {
      "cell_type": "markdown",
      "metadata": {
        "id": "mEdRuEhgfBw3"
      },
      "source": [
        "![alt](https://1.bp.blogspot.com/-ieWkJFWBEPU/X6VGwubpKFI/AAAAAAAACR4/DUPNT4UL5AEPo3E2iEtoR9geg0oEeZwmwCLcBGAsYHQ/w1200-h630-p-k-no-nu/Confusion%2BMatrix%2BTabel.jpg)\n",
        "\n",
        "Array hasil confusion matrix diatas adalah sebagai berikut :\n",
        "- _**True Positive (TP)**_: Data Positif yang diprediksi Benar oleh model.\n",
        "Kondisi sebenarnya pasien memang Menderita Diabetes dan hasil prediksi model juga menunjukkan demikian.\n",
        "- _**True Negative (TN)**_: Data Negatif yang diprediksi Benar oleh model.\n",
        "Kondisi sebenarnya pasien memang Tidak Menderita Diabetes dan hasil prediksi model juga menunjukkan demikian.\n",
        "- _False Positive (FP)_: Data Positif yang diprediksi Salah/keliru oleh model.\n",
        "Kondisi sebenarnya pasien Tidak Menderita Diabetes. Namun model memprediksi Menderita Diabetes.\n",
        "- _False Negative (FN)_: Data Negatif yang diprediksi Salah/keliru oleh model. Kondisi sebenarnya pasien Menderita Diabetes. Namun model memprediksi Tidak Menderita Diabetes\n",
        "\n",
        "Model diharapkan mampu memiliki nilai FP dan FN seminimal mungkin agar lebih akurat. Teknik ini menjadi dasar untuk mengukur kinerja model _(performance metrics)_ yang dibuat pada machine learning. Salah satu performance metrics tersebut adalah **accuracy/akurasi**.\n",
        "\n",
        "Akurasi menunjukkan sejauh mana keakuratan model untuk dapat mengklasifikasikan dengan benar. Dengan kata lain, akurasi akan menunjukkan tingkat kedekatan nilai prediksi model dengan nilai sebenarnya. Hal ini dapat dilihat dari rasio prediksi **TP** dan **TN** dengan keseluruhan data. Kita dapat menggunakan `classification_report` untuk melihat akurasinya."
      ]
    },
    {
      "cell_type": "code",
      "metadata": {
        "colab": {
          "base_uri": "https://localhost:8080/"
        },
        "id": "ikDGtviahg_B",
        "outputId": "4313368f-b7df-4959-d1bc-d38e5deb4faf"
      },
      "source": [
        "# lakukan penilaian juga dengan classification_report\n",
        "\n",
        "print (classification_report(y_test, dummy_pred))"
      ],
      "execution_count": null,
      "outputs": [
        {
          "output_type": "stream",
          "name": "stdout",
          "text": [
            "              precision    recall  f1-score   support\n",
            "\n",
            "           0       0.38      0.38      0.38        40\n",
            "           1       0.61      0.61      0.61        64\n",
            "\n",
            "    accuracy                           0.52       104\n",
            "   macro avg       0.49      0.49      0.49       104\n",
            "weighted avg       0.52      0.52      0.52       104\n",
            "\n"
          ]
        }
      ]
    },
    {
      "cell_type": "markdown",
      "metadata": {
        "id": "01o4bb8RiQ_4"
      },
      "source": [
        "_Precision (Presisi)_ merupakan rasio prediksi **TP** dibandingkan dengan keseluruhan hasil yang diprediksi Positif. Precission menjawab pertanyaan “Berapa persen pasien yang benar Diabetes dari keseluruhan pasien yang diprediksi Diabetes?”\n",
        "\n",
        "$$Precission = \\frac{(TP)} {(TP+FP)}$$\n",
        "\n",
        "_Recall (Sensitifitas)_ merupakan rasio prediksi **TP** dibandingkan dengan keseluruhan data yang benar Positif. Recall menjawab pertanyaan “Berapa persen pasien yang diprediksi Diabetes dibandingkan keseluruhan pasien yang sebenarnya Diabetes?”\n",
        "\n",
        "$$Recall = \\frac{(TP)} {(TP + FN)}$$\n",
        "\n",
        "_F1-Score_ merupakan perbandingan rata-rata presisi dan recall yang dibobotkan.\n",
        "\n",
        "$$F1 Score = 2 * \\frac{(Recall*Precission)} {(Recall + Precission)}$$\n",
        "\n",
        "Akurasi menggunakan `DummyClassifier` sebesar 52%. Lumayan. Kita coba menggunakan model lainnya"
      ]
    },
    {
      "cell_type": "markdown",
      "metadata": {
        "id": "DEO72FP5iZaK"
      },
      "source": [
        "### Model dengan Regresi Logistik"
      ]
    },
    {
      "cell_type": "code",
      "metadata": {
        "id": "tFP9wTOhhhFj"
      },
      "source": [
        "logr = LogisticRegression(max_iter=10000)\n",
        "logr.fit(X_train, y_train)\n",
        "logr_pred = logr.predict(X_test)"
      ],
      "execution_count": null,
      "outputs": []
    },
    {
      "cell_type": "code",
      "metadata": {
        "colab": {
          "base_uri": "https://localhost:8080/"
        },
        "id": "gyR4OlwFjbgX",
        "outputId": "d9e0845c-9df1-4038-baca-65144a3d5060"
      },
      "source": [
        "confusion_matrix(y_test, logr_pred)"
      ],
      "execution_count": null,
      "outputs": [
        {
          "output_type": "execute_result",
          "data": {
            "text/plain": [
              "array([[37,  3],\n",
              "       [ 8, 56]])"
            ]
          },
          "metadata": {},
          "execution_count": 12
        }
      ]
    },
    {
      "cell_type": "code",
      "metadata": {
        "colab": {
          "base_uri": "https://localhost:8080/"
        },
        "id": "7z6xRFGXjhUK",
        "outputId": "c5e41fe1-5d11-45c8-82a9-ab24cc52f355"
      },
      "source": [
        "print (classification_report(y_test, logr_pred))"
      ],
      "execution_count": null,
      "outputs": [
        {
          "output_type": "stream",
          "name": "stdout",
          "text": [
            "              precision    recall  f1-score   support\n",
            "\n",
            "           0       0.82      0.93      0.87        40\n",
            "           1       0.95      0.88      0.91        64\n",
            "\n",
            "    accuracy                           0.89       104\n",
            "   macro avg       0.89      0.90      0.89       104\n",
            "weighted avg       0.90      0.89      0.90       104\n",
            "\n"
          ]
        }
      ]
    },
    {
      "cell_type": "markdown",
      "metadata": {
        "id": "octPJ5ByjqJu"
      },
      "source": [
        "Akurasi prediksi dengan model Regresi Logistik sebesar 92%. Wow."
      ]
    },
    {
      "cell_type": "markdown",
      "metadata": {
        "id": "dCpmml-AZ1Qg"
      },
      "source": [
        "### Model dengan Decision Tree"
      ]
    },
    {
      "cell_type": "code",
      "metadata": {
        "id": "kSa6qaHbZ4Mv"
      },
      "source": [
        "tree = DecisionTreeClassifier()\n",
        "tree.fit(X_train, y_train)\n",
        "tree_pred = tree.predict(X_test)"
      ],
      "execution_count": null,
      "outputs": []
    },
    {
      "cell_type": "code",
      "metadata": {
        "colab": {
          "base_uri": "https://localhost:8080/"
        },
        "id": "lXr6ER2jj-hF",
        "outputId": "c897f1d8-5508-47ac-99f0-2ddab5037763"
      },
      "source": [
        "confusion_matrix(y_test, tree_pred)"
      ],
      "execution_count": null,
      "outputs": [
        {
          "output_type": "execute_result",
          "data": {
            "text/plain": [
              "array([[40,  0],\n",
              "       [ 4, 60]])"
            ]
          },
          "metadata": {},
          "execution_count": 18
        }
      ]
    },
    {
      "cell_type": "code",
      "metadata": {
        "colab": {
          "base_uri": "https://localhost:8080/"
        },
        "id": "WAXZHUQ4kGlC",
        "outputId": "f1e4057a-0dc3-4c57-c6f5-e52715cf03d4"
      },
      "source": [
        "print (classification_report(y_test, tree_pred))"
      ],
      "execution_count": null,
      "outputs": [
        {
          "output_type": "stream",
          "name": "stdout",
          "text": [
            "              precision    recall  f1-score   support\n",
            "\n",
            "           0       0.91      1.00      0.95        40\n",
            "           1       1.00      0.94      0.97        64\n",
            "\n",
            "    accuracy                           0.96       104\n",
            "   macro avg       0.95      0.97      0.96       104\n",
            "weighted avg       0.97      0.96      0.96       104\n",
            "\n"
          ]
        }
      ]
    },
    {
      "cell_type": "markdown",
      "metadata": {
        "id": "54Lt0DhnkM_h"
      },
      "source": [
        "Menggunakan model Decision Tree memperoleh hasil akurasi 94%. Better than before."
      ]
    },
    {
      "cell_type": "markdown",
      "metadata": {
        "id": "ZnCmmv-OkVuN"
      },
      "source": [
        "### Model dengan Random Forest"
      ]
    },
    {
      "cell_type": "code",
      "metadata": {
        "id": "-UCsCMZHkY9M"
      },
      "source": [
        "ranfor = RandomForestClassifier()\n",
        "ranfor.fit(X_train, y_train)\n",
        "ranfor_pred = ranfor.predict(X_test)"
      ],
      "execution_count": null,
      "outputs": []
    },
    {
      "cell_type": "code",
      "metadata": {
        "colab": {
          "base_uri": "https://localhost:8080/"
        },
        "id": "ySkn1EjFkj5M",
        "outputId": "da0b094b-e6b9-48db-9f66-8461ad612fef"
      },
      "source": [
        "confusion_matrix(y_test, ranfor_pred)"
      ],
      "execution_count": null,
      "outputs": [
        {
          "output_type": "execute_result",
          "data": {
            "text/plain": [
              "array([[39,  1],\n",
              "       [ 1, 63]])"
            ]
          },
          "metadata": {},
          "execution_count": 21
        }
      ]
    },
    {
      "cell_type": "code",
      "metadata": {
        "colab": {
          "base_uri": "https://localhost:8080/"
        },
        "id": "b-L9QERZkrd9",
        "outputId": "7751137f-6fd9-4325-a7ea-876e38093afd"
      },
      "source": [
        "print (classification_report(y_test, ranfor_pred))"
      ],
      "execution_count": null,
      "outputs": [
        {
          "output_type": "stream",
          "name": "stdout",
          "text": [
            "              precision    recall  f1-score   support\n",
            "\n",
            "           0       0.97      0.97      0.97        40\n",
            "           1       0.98      0.98      0.98        64\n",
            "\n",
            "    accuracy                           0.98       104\n",
            "   macro avg       0.98      0.98      0.98       104\n",
            "weighted avg       0.98      0.98      0.98       104\n",
            "\n"
          ]
        }
      ]
    },
    {
      "cell_type": "markdown",
      "metadata": {
        "id": "Vz9VolJwk0Vi"
      },
      "source": [
        "Menggunakan model Decision Tree memperoleh hasil akurasi 98%. Nearly perfect !!!\n",
        "\n",
        "Bagaimana model Random Forest bisa memiliki akurasi yang tinggi? Kita bisa mengidentifikasi fitur apa saja yang dianggap paling penting oleh model ini."
      ]
    },
    {
      "cell_type": "code",
      "metadata": {
        "colab": {
          "base_uri": "https://localhost:8080/"
        },
        "id": "2zyb1FkFmrZw",
        "outputId": "d5dd5f0c-2756-43cd-aa41-ca81c3be7019"
      },
      "source": [
        "ranfor.feature_importances_"
      ],
      "execution_count": null,
      "outputs": [
        {
          "output_type": "execute_result",
          "data": {
            "text/plain": [
              "array([0.09335028, 0.09613505, 0.21546956, 0.21423346, 0.06647112,\n",
              "       0.01740128, 0.02733643, 0.02382311, 0.02384777, 0.03679754,\n",
              "       0.0419113 , 0.02943291, 0.04152207, 0.01903603, 0.03652294,\n",
              "       0.01670915])"
            ]
          },
          "metadata": {},
          "execution_count": 23
        }
      ]
    },
    {
      "cell_type": "code",
      "metadata": {
        "colab": {
          "base_uri": "https://localhost:8080/"
        },
        "id": "_sONZQDkmxIv",
        "outputId": "846ffd75-babb-4ef4-9e9f-78660302a1a0"
      },
      "source": [
        "# tampilkan kolom yang ada pada data X\n",
        "X.columns"
      ],
      "execution_count": null,
      "outputs": [
        {
          "output_type": "execute_result",
          "data": {
            "text/plain": [
              "Index(['age', 'ismale', 'polyuria', 'polydipsia', 'sudden weight loss',\n",
              "       'weakness', 'polyphagia', 'genital thrush', 'visual blurring',\n",
              "       'itching', 'irritability', 'delayed healing', 'partial paresis',\n",
              "       'muscle stiffness', 'alopecia', 'obesity'],\n",
              "      dtype='object')"
            ]
          },
          "metadata": {},
          "execution_count": 24
        }
      ]
    },
    {
      "cell_type": "code",
      "metadata": {
        "colab": {
          "base_uri": "https://localhost:8080/",
          "height": 545
        },
        "id": "odU6Sjxim7tK",
        "outputId": "d967eca9-dbe1-4a39-dcb7-2d3f07b4be5e"
      },
      "source": [
        "# buat tabel yang akan menampilkan kolom fitur dan kolom tingkat kepentingan fitur tersebut. lalu urutkan dari yang paling penting\n",
        "pd.DataFrame({'fitur': X.columns, 'importances': ranfor.feature_importances_}).sort_values('importances', ascending=False)"
      ],
      "execution_count": null,
      "outputs": [
        {
          "output_type": "execute_result",
          "data": {
            "text/html": [
              "<div>\n",
              "<style scoped>\n",
              "    .dataframe tbody tr th:only-of-type {\n",
              "        vertical-align: middle;\n",
              "    }\n",
              "\n",
              "    .dataframe tbody tr th {\n",
              "        vertical-align: top;\n",
              "    }\n",
              "\n",
              "    .dataframe thead th {\n",
              "        text-align: right;\n",
              "    }\n",
              "</style>\n",
              "<table border=\"1\" class=\"dataframe\">\n",
              "  <thead>\n",
              "    <tr style=\"text-align: right;\">\n",
              "      <th></th>\n",
              "      <th>fitur</th>\n",
              "      <th>importances</th>\n",
              "    </tr>\n",
              "  </thead>\n",
              "  <tbody>\n",
              "    <tr>\n",
              "      <th>2</th>\n",
              "      <td>polyuria</td>\n",
              "      <td>0.215470</td>\n",
              "    </tr>\n",
              "    <tr>\n",
              "      <th>3</th>\n",
              "      <td>polydipsia</td>\n",
              "      <td>0.214233</td>\n",
              "    </tr>\n",
              "    <tr>\n",
              "      <th>1</th>\n",
              "      <td>ismale</td>\n",
              "      <td>0.096135</td>\n",
              "    </tr>\n",
              "    <tr>\n",
              "      <th>0</th>\n",
              "      <td>age</td>\n",
              "      <td>0.093350</td>\n",
              "    </tr>\n",
              "    <tr>\n",
              "      <th>4</th>\n",
              "      <td>sudden weight loss</td>\n",
              "      <td>0.066471</td>\n",
              "    </tr>\n",
              "    <tr>\n",
              "      <th>10</th>\n",
              "      <td>irritability</td>\n",
              "      <td>0.041911</td>\n",
              "    </tr>\n",
              "    <tr>\n",
              "      <th>12</th>\n",
              "      <td>partial paresis</td>\n",
              "      <td>0.041522</td>\n",
              "    </tr>\n",
              "    <tr>\n",
              "      <th>9</th>\n",
              "      <td>itching</td>\n",
              "      <td>0.036798</td>\n",
              "    </tr>\n",
              "    <tr>\n",
              "      <th>14</th>\n",
              "      <td>alopecia</td>\n",
              "      <td>0.036523</td>\n",
              "    </tr>\n",
              "    <tr>\n",
              "      <th>11</th>\n",
              "      <td>delayed healing</td>\n",
              "      <td>0.029433</td>\n",
              "    </tr>\n",
              "    <tr>\n",
              "      <th>6</th>\n",
              "      <td>polyphagia</td>\n",
              "      <td>0.027336</td>\n",
              "    </tr>\n",
              "    <tr>\n",
              "      <th>8</th>\n",
              "      <td>visual blurring</td>\n",
              "      <td>0.023848</td>\n",
              "    </tr>\n",
              "    <tr>\n",
              "      <th>7</th>\n",
              "      <td>genital thrush</td>\n",
              "      <td>0.023823</td>\n",
              "    </tr>\n",
              "    <tr>\n",
              "      <th>13</th>\n",
              "      <td>muscle stiffness</td>\n",
              "      <td>0.019036</td>\n",
              "    </tr>\n",
              "    <tr>\n",
              "      <th>5</th>\n",
              "      <td>weakness</td>\n",
              "      <td>0.017401</td>\n",
              "    </tr>\n",
              "    <tr>\n",
              "      <th>15</th>\n",
              "      <td>obesity</td>\n",
              "      <td>0.016709</td>\n",
              "    </tr>\n",
              "  </tbody>\n",
              "</table>\n",
              "</div>"
            ],
            "text/plain": [
              "                 fitur  importances\n",
              "2             polyuria     0.215470\n",
              "3           polydipsia     0.214233\n",
              "1               ismale     0.096135\n",
              "0                  age     0.093350\n",
              "4   sudden weight loss     0.066471\n",
              "10        irritability     0.041911\n",
              "12     partial paresis     0.041522\n",
              "9              itching     0.036798\n",
              "14            alopecia     0.036523\n",
              "11     delayed healing     0.029433\n",
              "6           polyphagia     0.027336\n",
              "8      visual blurring     0.023848\n",
              "7       genital thrush     0.023823\n",
              "13    muscle stiffness     0.019036\n",
              "5             weakness     0.017401\n",
              "15             obesity     0.016709"
            ]
          },
          "metadata": {},
          "execution_count": 27
        }
      ]
    },
    {
      "cell_type": "markdown",
      "metadata": {
        "id": "iPbuHudam6Wq"
      },
      "source": [
        "Dari sini dapat terlihat bahwa 5 fitur paling penting adalah `polyuria`, `polydipsia`, `ismale`, `age`, `sudden weight loss`. Hal ini sesuai dengan analisis statistik yang kita lakukan sebelumnya. Itulah sebabnya perlu melakukan analisis statistik sebelum menentukan model agar kita punya gambaran awal.\n",
        "\n",
        "Dengan hasil ini, seorang dokter sudah dapat bertindak dengan cepat ketika mengetahui bahwa setidaknya pasien yang memiliki riwayat polyuria dan polydipsia kemungkinan besar mengidap diabetes."
      ]
    },
    {
      "cell_type": "markdown",
      "metadata": {
        "id": "6-GLzLWVdzP2"
      },
      "source": [
        "## **Referensi Lainnya**"
      ]
    },
    {
      "cell_type": "markdown",
      "metadata": {
        "id": "pLJPlW3Md4Vn"
      },
      "source": [
        "- [_Chi-Square Test of Independence_](https://www.jmp.com/en_ca/statistics-knowledge-portal/chi-square-test/chi-square-test-of-independence.html)\n",
        "- [Contoh Soal Uji Chi Square: Syarat dan Tabel Acuannya](https://www.statmat.net/uji-chi-square/)\n",
        "- [Z-Test](https://www.investopedia.com/terms/z/z-test.asp)\n",
        "- [Mengenal Accuracy, Precision, Recall dan Specificity serta yang diprioritaskan dalam Machine Learning](https://rey1024.medium.com/mengenal-accuracy-precission-recall-dan-specificity-serta-yang-diprioritaskan-b79ff4d77de8)"
      ]
    }
  ]
}